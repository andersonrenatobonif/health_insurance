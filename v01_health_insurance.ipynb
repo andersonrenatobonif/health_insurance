{
 "cells": [
  {
   "cell_type": "markdown",
   "id": "f4bc4324",
   "metadata": {},
   "source": [
    "# About Dataset\n",
    "\n",
    "## Context\n",
    "\n",
    "Our client is an Insurance company that has provided Health Insurance to its customers now they need your help in building a model to predict whether the policyholders (customers) from past year will also be interested in Vehicle Insurance provided by the company.\n",
    "\n",
    "An insurance policy is an arrangement by which a company undertakes to provide a guarantee of compensation for specified loss, damage, illness, or death in return for the payment of a specified premium. A premium is a sum of money that the customer needs to pay regularly to an insurance company for this guarantee.\n",
    "\n",
    "For example, you may pay a premium of Rs. 5000 each year for a health insurance cover of Rs. 200,000/- so that if, God forbid, you fall ill and need to be hospitalised in that year, the insurance provider company will bear the cost of hospitalisation etc. for upto Rs. 200,000. Now if you are wondering how can company bear such high hospitalisation cost when it charges a premium of only Rs. 5000/-, that is where the concept of probabilities comes in picture. For example, like you, there may be 100 customers who would be paying a premium of Rs. 5000 every year, but only a few of them (say 2-3) would get hospitalised that year and not everyone. This way everyone shares the risk of everyone else.\n",
    "\n",
    "Just like medical insurance, there is vehicle insurance where every year customer needs to pay a premium of certain amount to insurance provider company so that in case of unfortunate accident by the vehicle, the insurance provider company will provide a compensation (called ‘sum assured’) to the customer.\n",
    "\n",
    "Building a model to predict whether a customer would be interested in Vehicle Insurance is extremely helpful for the company because it can then accordingly plan its communication strategy to reach out to those customers and optimise its business model and revenue.\n",
    "\n",
    "Now, in order to predict, whether the customer would be interested in Vehicle insurance, you have information about demographics (gender, age, region code type), Vehicles (Vehicle Age, Damage), Policy (Premium, sourcing channel) etc."
   ]
  },
  {
   "cell_type": "markdown",
   "id": "a7ffa904",
   "metadata": {},
   "source": [
    "## Data Description\n",
    "\n",
    "### Train Data\n",
    "\n",
    "\n",
    "- id: Unique ID for the customer\n",
    "- Gender: Gender of the customer\n",
    "- Age:\tAge of the customer\n",
    "- Driving_License: 0  Customer does not have DL, 1  Customer already has DL\n",
    "- Region_Code: Unique code for the region of the customer\n",
    "- Previously_Insured: 1 Customer already has Vehicle Insurance, 0 Customer doesn't have Vehicle Insurance\n",
    "- Vehicle_Age: Age of the Vehicle\n",
    "- Vehicle_Damage: 1 Customer got his/her vehicle damaged in the past. 0 Customer didn't get his/her vehicle damaged in the past.\n",
    "- Annual_Premium: The amount customer needs to pay as premium in the year\n",
    "- Policy_Sales_Channel: Anonymized Code for the channel of outreaching to the customer ie. Different Agents, Over Mail, Over Phone, In Person, etc.\n",
    "- Vintage: Number of Days, Customer has been associated with the company\n",
    "- Response: 1 Customer is interested, 0 Customer is not interested"
   ]
  },
  {
   "cell_type": "code",
   "execution_count": null,
   "id": "6765e2f0",
   "metadata": {},
   "outputs": [],
   "source": []
  },
  {
   "cell_type": "markdown",
   "id": "810db8e8",
   "metadata": {},
   "source": [
    "# 0.0 Imports"
   ]
  },
  {
   "cell_type": "code",
   "execution_count": 47,
   "id": "ab401d07",
   "metadata": {
    "ExecuteTime": {
     "end_time": "2023-04-21T13:44:20.014468Z",
     "start_time": "2023-04-21T13:44:19.991780Z"
    }
   },
   "outputs": [],
   "source": [
    "import pandas as pd\n",
    "import matplotlib as plt\n",
    "import seaborn as sns\n",
    "import psycopg2 as pg\n",
    "import sqlalchemy as db\n",
    "import matplotlib.pyplot as plt\n",
    "import seaborn as sns\n",
    "\n",
    "from sqlalchemy import create_engine\n",
    "\n",
    "from sklearn.model_selection import train_test_split\n",
    "\n",
    "\n",
    "from IPython.display import display, HTML"
   ]
  },
  {
   "cell_type": "code",
   "execution_count": null,
   "id": "655c00a9",
   "metadata": {
    "ExecuteTime": {
     "end_time": "2023-04-21T13:44:11.157644Z",
     "start_time": "2023-04-21T13:44:09.946498Z"
    }
   },
   "outputs": [],
   "source": []
  },
  {
   "cell_type": "markdown",
   "id": "d28f52ec",
   "metadata": {
    "ExecuteTime": {
     "end_time": "2023-04-09T19:27:52.785541Z",
     "start_time": "2023-04-09T19:27:52.727588Z"
    }
   },
   "source": [
    " ## 0.1 Helper Functions"
   ]
  },
  {
   "cell_type": "code",
   "execution_count": 2,
   "id": "80bab0f7",
   "metadata": {
    "ExecuteTime": {
     "end_time": "2023-04-21T12:58:29.449629Z",
     "start_time": "2023-04-21T12:58:29.430416Z"
    }
   },
   "outputs": [],
   "source": [
    "def jupyter_settings():\n",
    "    %matplotlib inline\n",
    "    \n",
    "    plt.style.use('bmh')\n",
    "    plt.rcParams['figure.figsize'] = [25, 12]\n",
    "    plt.rcParams['font.size'] = 24\n",
    "    \n",
    "    display(HTML(\"<style>.container { width:95% !important; }</style>\"))\n",
    "    pd.options.display.max_columns = None\n",
    "    pd.options.display.max_rows = None\n",
    "    pd.set_option('display.expand_frame_repr', False)\n",
    "    \n",
    "    sns.set"
   ]
  },
  {
   "cell_type": "code",
   "execution_count": 3,
   "id": "b4970324",
   "metadata": {
    "ExecuteTime": {
     "end_time": "2023-04-21T12:58:31.296458Z",
     "start_time": "2023-04-21T12:58:31.024588Z"
    }
   },
   "outputs": [
    {
     "data": {
      "text/html": [
       "<style>.container { width:95% !important; }</style>"
      ],
      "text/plain": [
       "<IPython.core.display.HTML object>"
      ]
     },
     "metadata": {},
     "output_type": "display_data"
    }
   ],
   "source": [
    "jupyter_settings()"
   ]
  },
  {
   "cell_type": "markdown",
   "id": "0455a60b",
   "metadata": {},
   "source": [
    "## 0.2 Loading Data"
   ]
  },
  {
   "cell_type": "code",
   "execution_count": 4,
   "id": "48cc5b1e",
   "metadata": {
    "ExecuteTime": {
     "end_time": "2023-04-21T12:58:36.242604Z",
     "start_time": "2023-04-21T12:58:36.237622Z"
    }
   },
   "outputs": [],
   "source": [
    "#credentials\n",
    "\n",
    "host = 'comunidade-ds-postgres.c50pcakiuwi3.us-east-1.rds.amazonaws.com'\n",
    "port = 5432\n",
    "database = 'comunidadedsdb'\n",
    "username = 'member'\n",
    "pwd = 'cdspa'"
   ]
  },
  {
   "cell_type": "code",
   "execution_count": 5,
   "id": "bad02326",
   "metadata": {
    "ExecuteTime": {
     "end_time": "2023-04-21T12:58:44.066477Z",
     "start_time": "2023-04-21T12:58:41.402547Z"
    }
   },
   "outputs": [],
   "source": [
    "#create string connection and postgre engine\n",
    "\n",
    "string_connect = 'postgresql://' + username + ':' + pwd + '@' + host + ':' + str(port) + '/' + database\n",
    "engine = db.create_engine(string_connect)\n",
    "conn1 = engine.connect()\n"
   ]
  },
  {
   "cell_type": "code",
   "execution_count": 6,
   "id": "a2e7d036",
   "metadata": {
    "ExecuteTime": {
     "end_time": "2023-04-21T12:58:45.655541Z",
     "start_time": "2023-04-21T12:58:45.647757Z"
    }
   },
   "outputs": [],
   "source": [
    "# make query\n",
    "\n",
    "query_tables = \"\"\"\n",
    "\n",
    "SELECT * \n",
    "FROM pa004.users u LEFT JOIN pa004.vehicle v ON (u.id = v.id)\n",
    "\t\t\t\t   LEFT JOIN pa004.insurance i ON (u.id = i.id)\n",
    "\n",
    "\n",
    "\n",
    "\"\"\""
   ]
  },
  {
   "cell_type": "code",
   "execution_count": 7,
   "id": "8f3c3a38",
   "metadata": {
    "ExecuteTime": {
     "end_time": "2023-04-21T12:59:08.582003Z",
     "start_time": "2023-04-21T12:58:53.490821Z"
    }
   },
   "outputs": [
    {
     "data": {
      "text/html": [
       "<div>\n",
       "<style scoped>\n",
       "    .dataframe tbody tr th:only-of-type {\n",
       "        vertical-align: middle;\n",
       "    }\n",
       "\n",
       "    .dataframe tbody tr th {\n",
       "        vertical-align: top;\n",
       "    }\n",
       "\n",
       "    .dataframe thead th {\n",
       "        text-align: right;\n",
       "    }\n",
       "</style>\n",
       "<table border=\"1\" class=\"dataframe\">\n",
       "  <thead>\n",
       "    <tr style=\"text-align: right;\">\n",
       "      <th></th>\n",
       "      <th>id</th>\n",
       "      <th>gender</th>\n",
       "      <th>age</th>\n",
       "      <th>region_code</th>\n",
       "      <th>policy_sales_channel</th>\n",
       "      <th>driving_license</th>\n",
       "      <th>vehicle_age</th>\n",
       "      <th>vehicle_damage</th>\n",
       "      <th>previously_insured</th>\n",
       "      <th>annual_premium</th>\n",
       "      <th>vintage</th>\n",
       "      <th>response</th>\n",
       "    </tr>\n",
       "  </thead>\n",
       "  <tbody>\n",
       "    <tr>\n",
       "      <th>0</th>\n",
       "      <td>7</td>\n",
       "      <td>Male</td>\n",
       "      <td>23</td>\n",
       "      <td>11.0</td>\n",
       "      <td>152.0</td>\n",
       "      <td>1</td>\n",
       "      <td>&lt; 1 Year</td>\n",
       "      <td>Yes</td>\n",
       "      <td>0</td>\n",
       "      <td>23367.0</td>\n",
       "      <td>249</td>\n",
       "      <td>0</td>\n",
       "    </tr>\n",
       "    <tr>\n",
       "      <th>1</th>\n",
       "      <td>13</td>\n",
       "      <td>Female</td>\n",
       "      <td>41</td>\n",
       "      <td>15.0</td>\n",
       "      <td>14.0</td>\n",
       "      <td>1</td>\n",
       "      <td>1-2 Year</td>\n",
       "      <td>No</td>\n",
       "      <td>1</td>\n",
       "      <td>31409.0</td>\n",
       "      <td>221</td>\n",
       "      <td>0</td>\n",
       "    </tr>\n",
       "    <tr>\n",
       "      <th>2</th>\n",
       "      <td>18</td>\n",
       "      <td>Female</td>\n",
       "      <td>25</td>\n",
       "      <td>35.0</td>\n",
       "      <td>152.0</td>\n",
       "      <td>1</td>\n",
       "      <td>&lt; 1 Year</td>\n",
       "      <td>No</td>\n",
       "      <td>1</td>\n",
       "      <td>46622.0</td>\n",
       "      <td>299</td>\n",
       "      <td>0</td>\n",
       "    </tr>\n",
       "    <tr>\n",
       "      <th>3</th>\n",
       "      <td>31</td>\n",
       "      <td>Female</td>\n",
       "      <td>26</td>\n",
       "      <td>8.0</td>\n",
       "      <td>160.0</td>\n",
       "      <td>1</td>\n",
       "      <td>&lt; 1 Year</td>\n",
       "      <td>No</td>\n",
       "      <td>0</td>\n",
       "      <td>2630.0</td>\n",
       "      <td>136</td>\n",
       "      <td>0</td>\n",
       "    </tr>\n",
       "    <tr>\n",
       "      <th>4</th>\n",
       "      <td>39</td>\n",
       "      <td>Male</td>\n",
       "      <td>45</td>\n",
       "      <td>8.0</td>\n",
       "      <td>124.0</td>\n",
       "      <td>1</td>\n",
       "      <td>1-2 Year</td>\n",
       "      <td>Yes</td>\n",
       "      <td>0</td>\n",
       "      <td>42297.0</td>\n",
       "      <td>264</td>\n",
       "      <td>0</td>\n",
       "    </tr>\n",
       "  </tbody>\n",
       "</table>\n",
       "</div>"
      ],
      "text/plain": [
       "   id  gender  age  region_code  policy_sales_channel  driving_license vehicle_age vehicle_damage  previously_insured  annual_premium  vintage  response\n",
       "0   7    Male   23         11.0                 152.0                1    < 1 Year            Yes                   0         23367.0      249         0\n",
       "1  13  Female   41         15.0                  14.0                1    1-2 Year             No                   1         31409.0      221         0\n",
       "2  18  Female   25         35.0                 152.0                1    < 1 Year             No                   1         46622.0      299         0\n",
       "3  31  Female   26          8.0                 160.0                1    < 1 Year             No                   0          2630.0      136         0\n",
       "4  39    Male   45          8.0                 124.0                1    1-2 Year            Yes                   0         42297.0      264         0"
      ]
     },
     "execution_count": 7,
     "metadata": {},
     "output_type": "execute_result"
    }
   ],
   "source": [
    "# Read dataFrame\n",
    "\n",
    "df = pd.read_sql(query_tables, conn1)\n",
    "df.head()"
   ]
  },
  {
   "cell_type": "markdown",
   "id": "96ff1cd7",
   "metadata": {
    "ExecuteTime": {
     "end_time": "2023-04-21T13:13:49.841911Z",
     "start_time": "2023-04-21T13:13:49.800681Z"
    }
   },
   "source": [
    "## 0.3 Split data frame in Train, Validation and Test"
   ]
  },
  {
   "cell_type": "code",
   "execution_count": 9,
   "id": "fc3798b9",
   "metadata": {
    "ExecuteTime": {
     "end_time": "2023-04-21T13:14:04.348409Z",
     "start_time": "2023-04-21T13:14:03.791241Z"
    }
   },
   "outputs": [],
   "source": [
    "X = df.drop(['response'], axis=1)\n",
    "y = df['response']"
   ]
  },
  {
   "cell_type": "code",
   "execution_count": 10,
   "id": "09ed832c",
   "metadata": {
    "ExecuteTime": {
     "end_time": "2023-04-21T13:15:03.991259Z",
     "start_time": "2023-04-21T13:15:03.745066Z"
    }
   },
   "outputs": [],
   "source": [
    "#Split train-test\n",
    "\n",
    "X_train, X_test, y_train, y_test = train_test_split(X, y, test_size = 0.2, random_state=42)"
   ]
  },
  {
   "cell_type": "code",
   "execution_count": 11,
   "id": "2a9d7f06",
   "metadata": {
    "ExecuteTime": {
     "end_time": "2023-04-21T13:15:04.853852Z",
     "start_time": "2023-04-21T13:15:04.705294Z"
    }
   },
   "outputs": [],
   "source": [
    "# Split Train_validation\n",
    "\n",
    "X_train, X_val, y_train, y_val = train_test_split(X_train, y_train, test_size = 0.2, random_state=42)"
   ]
  },
  {
   "cell_type": "markdown",
   "id": "c0fce175",
   "metadata": {},
   "source": [
    "# 1.0 Descrição dos Dados"
   ]
  },
  {
   "cell_type": "code",
   "execution_count": 12,
   "id": "fd5401b3",
   "metadata": {
    "ExecuteTime": {
     "end_time": "2023-04-21T13:15:07.564844Z",
     "start_time": "2023-04-21T13:15:07.497545Z"
    }
   },
   "outputs": [],
   "source": [
    "df1 = X_train.copy()"
   ]
  },
  {
   "cell_type": "markdown",
   "id": "8703fcc1",
   "metadata": {},
   "source": [
    "## 1.1 Rename Columns"
   ]
  },
  {
   "cell_type": "code",
   "execution_count": 14,
   "id": "2a83d636",
   "metadata": {
    "ExecuteTime": {
     "end_time": "2023-04-21T13:24:25.901450Z",
     "start_time": "2023-04-21T13:24:25.862873Z"
    }
   },
   "outputs": [
    {
     "data": {
      "text/plain": [
       "Index(['id', 'gender', 'age', 'region_code', 'policy_sales_channel',\n",
       "       'driving_license', 'vehicle_age', 'vehicle_damage',\n",
       "       'previously_insured', 'annual_premium', 'vintage'],\n",
       "      dtype='object')"
      ]
     },
     "execution_count": 14,
     "metadata": {},
     "output_type": "execute_result"
    }
   ],
   "source": [
    "df1.columns"
   ]
  },
  {
   "cell_type": "code",
   "execution_count": null,
   "id": "d85f7067",
   "metadata": {},
   "outputs": [],
   "source": []
  },
  {
   "cell_type": "markdown",
   "id": "b6a00acc",
   "metadata": {},
   "source": [
    "## 1.2 Data Dimension"
   ]
  },
  {
   "cell_type": "code",
   "execution_count": 15,
   "id": "fa48e734",
   "metadata": {
    "ExecuteTime": {
     "end_time": "2023-04-21T13:24:27.818949Z",
     "start_time": "2023-04-21T13:24:27.803916Z"
    }
   },
   "outputs": [
    {
     "data": {
      "text/plain": [
       "(243909, 11)"
      ]
     },
     "execution_count": 15,
     "metadata": {},
     "output_type": "execute_result"
    }
   ],
   "source": [
    "df1.shape"
   ]
  },
  {
   "cell_type": "code",
   "execution_count": null,
   "id": "6f74a4d9",
   "metadata": {},
   "outputs": [],
   "source": []
  },
  {
   "cell_type": "markdown",
   "id": "b53511d2",
   "metadata": {},
   "source": [
    "## 1.3 Data Types"
   ]
  },
  {
   "cell_type": "code",
   "execution_count": 16,
   "id": "57de1c01",
   "metadata": {
    "ExecuteTime": {
     "end_time": "2023-04-21T13:24:29.967021Z",
     "start_time": "2023-04-21T13:24:29.692096Z"
    }
   },
   "outputs": [
    {
     "name": "stdout",
     "output_type": "stream",
     "text": [
      "<class 'pandas.core.frame.DataFrame'>\n",
      "Index: 243909 entries, 217927 to 169494\n",
      "Data columns (total 11 columns):\n",
      " #   Column                Non-Null Count   Dtype  \n",
      "---  ------                --------------   -----  \n",
      " 0   id                    243909 non-null  int64  \n",
      " 1   gender                243909 non-null  object \n",
      " 2   age                   243909 non-null  int64  \n",
      " 3   region_code           243909 non-null  float64\n",
      " 4   policy_sales_channel  243909 non-null  float64\n",
      " 5   driving_license       243909 non-null  int64  \n",
      " 6   vehicle_age           243909 non-null  object \n",
      " 7   vehicle_damage        243909 non-null  object \n",
      " 8   previously_insured    243909 non-null  int64  \n",
      " 9   annual_premium        243909 non-null  float64\n",
      " 10  vintage               243909 non-null  int64  \n",
      "dtypes: float64(3), int64(5), object(3)\n",
      "memory usage: 22.3+ MB\n"
     ]
    }
   ],
   "source": [
    "df1.info()"
   ]
  },
  {
   "cell_type": "code",
   "execution_count": null,
   "id": "d6bd76b6",
   "metadata": {},
   "outputs": [],
   "source": []
  },
  {
   "cell_type": "markdown",
   "id": "e8f57f2b",
   "metadata": {},
   "source": [
    "## 1.4 Check NA"
   ]
  },
  {
   "cell_type": "code",
   "execution_count": 17,
   "id": "7d9f98e1",
   "metadata": {
    "ExecuteTime": {
     "end_time": "2023-04-21T13:24:32.704554Z",
     "start_time": "2023-04-21T13:24:32.589993Z"
    }
   },
   "outputs": [
    {
     "data": {
      "text/plain": [
       "id                      0\n",
       "gender                  0\n",
       "age                     0\n",
       "region_code             0\n",
       "policy_sales_channel    0\n",
       "driving_license         0\n",
       "vehicle_age             0\n",
       "vehicle_damage          0\n",
       "previously_insured      0\n",
       "annual_premium          0\n",
       "vintage                 0\n",
       "dtype: int64"
      ]
     },
     "execution_count": 17,
     "metadata": {},
     "output_type": "execute_result"
    }
   ],
   "source": [
    "df1.isna().sum()"
   ]
  },
  {
   "cell_type": "code",
   "execution_count": null,
   "id": "60248c84",
   "metadata": {},
   "outputs": [],
   "source": []
  },
  {
   "cell_type": "markdown",
   "id": "54ce2387",
   "metadata": {},
   "source": [
    "## 1.5 Change Types"
   ]
  },
  {
   "cell_type": "code",
   "execution_count": 36,
   "id": "e31f2256",
   "metadata": {
    "ExecuteTime": {
     "end_time": "2023-04-21T13:35:33.586830Z",
     "start_time": "2023-04-21T13:35:33.572315Z"
    }
   },
   "outputs": [
    {
     "data": {
      "text/plain": [
       "id                        int64\n",
       "gender                   object\n",
       "age                       int64\n",
       "region_code               int32\n",
       "policy_sales_channel      int32\n",
       "driving_license           int64\n",
       "vehicle_age              object\n",
       "vehicle_damage            int64\n",
       "previously_insured        int64\n",
       "annual_premium          float64\n",
       "vintage                   int64\n",
       "dtype: object"
      ]
     },
     "execution_count": 36,
     "metadata": {},
     "output_type": "execute_result"
    }
   ],
   "source": [
    "df1.dtypes"
   ]
  },
  {
   "cell_type": "code",
   "execution_count": 19,
   "id": "20781f27",
   "metadata": {
    "ExecuteTime": {
     "end_time": "2023-04-21T13:24:40.908285Z",
     "start_time": "2023-04-21T13:24:40.885434Z"
    }
   },
   "outputs": [],
   "source": [
    "df1['region_code'] = df1['region_code'].astype(int)\n",
    "df1['policy_sales_channel'] = df1['policy_sales_channel'].astype(int)\n",
    "df1['vehicle_damage'] = df1['vehicle_damage'].apply(lambda x: 0 if x == '0' else 1)"
   ]
  },
  {
   "cell_type": "code",
   "execution_count": 35,
   "id": "b90a28f7",
   "metadata": {
    "ExecuteTime": {
     "end_time": "2023-04-21T13:34:28.851617Z",
     "start_time": "2023-04-21T13:34:28.647205Z"
    }
   },
   "outputs": [],
   "source": []
  },
  {
   "cell_type": "markdown",
   "id": "b3c066f4",
   "metadata": {},
   "source": [
    "## 1.6 Descriptive Statistical"
   ]
  },
  {
   "cell_type": "code",
   "execution_count": 37,
   "id": "bc1c47ac",
   "metadata": {
    "ExecuteTime": {
     "end_time": "2023-04-21T13:37:01.910592Z",
     "start_time": "2023-04-21T13:37:01.829723Z"
    }
   },
   "outputs": [],
   "source": [
    "num_attributes = df1.select_dtypes( include = ['int32', 'int64', 'float64'] )\n",
    "cat_attributes = df1.select_dtypes( exclude = ['int32', 'int64', 'float'] )"
   ]
  },
  {
   "cell_type": "markdown",
   "id": "e036113b",
   "metadata": {},
   "source": [
    "### 1.6.1 Numerical Attributes"
   ]
  },
  {
   "cell_type": "code",
   "execution_count": 38,
   "id": "83f221eb",
   "metadata": {
    "ExecuteTime": {
     "end_time": "2023-04-21T13:37:04.599352Z",
     "start_time": "2023-04-21T13:37:04.125963Z"
    }
   },
   "outputs": [
    {
     "data": {
      "text/html": [
       "<div>\n",
       "<style scoped>\n",
       "    .dataframe tbody tr th:only-of-type {\n",
       "        vertical-align: middle;\n",
       "    }\n",
       "\n",
       "    .dataframe tbody tr th {\n",
       "        vertical-align: top;\n",
       "    }\n",
       "\n",
       "    .dataframe thead th {\n",
       "        text-align: right;\n",
       "    }\n",
       "</style>\n",
       "<table border=\"1\" class=\"dataframe\">\n",
       "  <thead>\n",
       "    <tr style=\"text-align: right;\">\n",
       "      <th></th>\n",
       "      <th>features</th>\n",
       "      <th>min</th>\n",
       "      <th>max</th>\n",
       "      <th>mean</th>\n",
       "      <th>median</th>\n",
       "      <th>std</th>\n",
       "      <th>range</th>\n",
       "      <th>skew</th>\n",
       "      <th>kurtosis</th>\n",
       "    </tr>\n",
       "  </thead>\n",
       "  <tbody>\n",
       "    <tr>\n",
       "      <th>0</th>\n",
       "      <td>id</td>\n",
       "      <td>1.0</td>\n",
       "      <td>381109.0</td>\n",
       "      <td>190629.391027</td>\n",
       "      <td>190463.0</td>\n",
       "      <td>110113.314639</td>\n",
       "      <td>381108.0</td>\n",
       "      <td>0.000958</td>\n",
       "      <td>-1.202639</td>\n",
       "    </tr>\n",
       "    <tr>\n",
       "      <th>1</th>\n",
       "      <td>age</td>\n",
       "      <td>20.0</td>\n",
       "      <td>85.0</td>\n",
       "      <td>38.840338</td>\n",
       "      <td>36.0</td>\n",
       "      <td>15.504093</td>\n",
       "      <td>65.0</td>\n",
       "      <td>0.670266</td>\n",
       "      <td>-0.567091</td>\n",
       "    </tr>\n",
       "    <tr>\n",
       "      <th>2</th>\n",
       "      <td>region_code</td>\n",
       "      <td>0.0</td>\n",
       "      <td>52.0</td>\n",
       "      <td>26.395664</td>\n",
       "      <td>28.0</td>\n",
       "      <td>13.225380</td>\n",
       "      <td>52.0</td>\n",
       "      <td>-0.116015</td>\n",
       "      <td>-0.864970</td>\n",
       "    </tr>\n",
       "    <tr>\n",
       "      <th>3</th>\n",
       "      <td>policy_sales_channel</td>\n",
       "      <td>1.0</td>\n",
       "      <td>163.0</td>\n",
       "      <td>111.872969</td>\n",
       "      <td>125.0</td>\n",
       "      <td>54.265997</td>\n",
       "      <td>162.0</td>\n",
       "      <td>-0.893386</td>\n",
       "      <td>-0.983596</td>\n",
       "    </tr>\n",
       "    <tr>\n",
       "      <th>4</th>\n",
       "      <td>driving_license</td>\n",
       "      <td>0.0</td>\n",
       "      <td>1.0</td>\n",
       "      <td>0.997827</td>\n",
       "      <td>1.0</td>\n",
       "      <td>0.046564</td>\n",
       "      <td>1.0</td>\n",
       "      <td>-21.382550</td>\n",
       "      <td>455.217194</td>\n",
       "    </tr>\n",
       "    <tr>\n",
       "      <th>5</th>\n",
       "      <td>vehicle_damage</td>\n",
       "      <td>1.0</td>\n",
       "      <td>1.0</td>\n",
       "      <td>1.000000</td>\n",
       "      <td>1.0</td>\n",
       "      <td>0.000000</td>\n",
       "      <td>0.0</td>\n",
       "      <td>0.000000</td>\n",
       "      <td>0.000000</td>\n",
       "    </tr>\n",
       "    <tr>\n",
       "      <th>6</th>\n",
       "      <td>previously_insured</td>\n",
       "      <td>0.0</td>\n",
       "      <td>1.0</td>\n",
       "      <td>0.458667</td>\n",
       "      <td>0.0</td>\n",
       "      <td>0.498289</td>\n",
       "      <td>1.0</td>\n",
       "      <td>0.165901</td>\n",
       "      <td>-1.972493</td>\n",
       "    </tr>\n",
       "    <tr>\n",
       "      <th>7</th>\n",
       "      <td>annual_premium</td>\n",
       "      <td>2630.0</td>\n",
       "      <td>540165.0</td>\n",
       "      <td>30608.226572</td>\n",
       "      <td>31699.0</td>\n",
       "      <td>17212.946509</td>\n",
       "      <td>537535.0</td>\n",
       "      <td>1.719756</td>\n",
       "      <td>32.837156</td>\n",
       "    </tr>\n",
       "    <tr>\n",
       "      <th>8</th>\n",
       "      <td>vintage</td>\n",
       "      <td>10.0</td>\n",
       "      <td>299.0</td>\n",
       "      <td>154.297090</td>\n",
       "      <td>154.0</td>\n",
       "      <td>83.710513</td>\n",
       "      <td>289.0</td>\n",
       "      <td>0.002952</td>\n",
       "      <td>-1.201692</td>\n",
       "    </tr>\n",
       "  </tbody>\n",
       "</table>\n",
       "</div>"
      ],
      "text/plain": [
       "               features     min       max           mean    median            std     range       skew    kurtosis\n",
       "0                    id     1.0  381109.0  190629.391027  190463.0  110113.314639  381108.0   0.000958   -1.202639\n",
       "1                   age    20.0      85.0      38.840338      36.0      15.504093      65.0   0.670266   -0.567091\n",
       "2           region_code     0.0      52.0      26.395664      28.0      13.225380      52.0  -0.116015   -0.864970\n",
       "3  policy_sales_channel     1.0     163.0     111.872969     125.0      54.265997     162.0  -0.893386   -0.983596\n",
       "4       driving_license     0.0       1.0       0.997827       1.0       0.046564       1.0 -21.382550  455.217194\n",
       "5        vehicle_damage     1.0       1.0       1.000000       1.0       0.000000       0.0   0.000000    0.000000\n",
       "6    previously_insured     0.0       1.0       0.458667       0.0       0.498289       1.0   0.165901   -1.972493\n",
       "7        annual_premium  2630.0  540165.0   30608.226572   31699.0   17212.946509  537535.0   1.719756   32.837156\n",
       "8               vintage    10.0     299.0     154.297090     154.0      83.710513     289.0   0.002952   -1.201692"
      ]
     },
     "execution_count": 38,
     "metadata": {},
     "output_type": "execute_result"
    }
   ],
   "source": [
    "# Central tendency metrics\n",
    "\n",
    "ct1 = pd.DataFrame(num_attributes.apply(np.mean)).T\n",
    "ct2 = pd.DataFrame(num_attributes.apply(np.median)).T\n",
    "\n",
    "\n",
    "# Dispersionl metrics - std, min, max, range, kurtosis, skew\n",
    "\n",
    "d1 = pd.DataFrame(num_attributes.apply(np.std)).T\n",
    "d2 = pd.DataFrame(num_attributes.apply(min)).T\n",
    "d3 = pd.DataFrame(num_attributes.apply(max)).T\n",
    "d4 = pd.DataFrame(num_attributes.apply(lambda x: x.max() - x.min())).T\n",
    "d5 = pd.DataFrame(num_attributes.apply(lambda x: x.skew())).T\n",
    "d6 = pd.DataFrame(num_attributes.apply(lambda x: x.kurtosis())).T\n",
    "\n",
    "m = pd.concat( [ d2, d3, ct1, ct2, d1, d4, d5, d6 ]).T.reset_index()\n",
    "\n",
    "m.columns = ( [ 'features', 'min', 'max', 'mean', 'median', 'std', 'range', 'skew', 'kurtosis'])\n",
    "\n",
    "m"
   ]
  },
  {
   "cell_type": "markdown",
   "id": "dcfcd950",
   "metadata": {},
   "source": [
    "### 1.7.1 Numerical Attributes"
   ]
  },
  {
   "cell_type": "code",
   "execution_count": 39,
   "id": "5c40accd",
   "metadata": {
    "ExecuteTime": {
     "end_time": "2023-04-21T13:38:51.239199Z",
     "start_time": "2023-04-21T13:38:51.074530Z"
    }
   },
   "outputs": [
    {
     "data": {
      "text/plain": [
       "gender         2\n",
       "vehicle_age    3\n",
       "dtype: int64"
      ]
     },
     "execution_count": 39,
     "metadata": {},
     "output_type": "execute_result"
    }
   ],
   "source": [
    "cat_attributes.apply(lambda x: x.unique().shape[0])"
   ]
  },
  {
   "cell_type": "code",
   "execution_count": 65,
   "id": "b0bfa3d2",
   "metadata": {
    "ExecuteTime": {
     "end_time": "2023-04-21T14:02:51.949239Z",
     "start_time": "2023-04-21T14:02:46.257278Z"
    }
   },
   "outputs": [
    {
     "data": {
      "text/plain": [
       "<Axes: xlabel='vehicle_age', ylabel='id'>"
      ]
     },
     "execution_count": 65,
     "metadata": {},
     "output_type": "execute_result"
    },
    {
     "data": {
      "image/png": "[encoded data removed]",
      "text/plain": [
       "<Figure size 2500x1200 with 2 Axes>"
      ]
     },
     "metadata": {},
     "output_type": "display_data"
    }
   ],
   "source": [
    "sns.set(style='white')\n",
    "\n",
    "plt.subplot(1, 2, 1)\n",
    "sns.barplot(x='gender', y='id', data=df1)\n",
    "\n",
    "plt.subplot(1, 2, 2)\n",
    "sns.barplot(x='vehicle_age', y='id', data=df1)"
   ]
  },
  {
   "cell_type": "code",
   "execution_count": 53,
   "id": "04784671",
   "metadata": {
    "ExecuteTime": {
     "end_time": "2023-04-21T13:51:23.510467Z",
     "start_time": "2023-04-21T13:51:23.353682Z"
    }
   },
   "outputs": [
    {
     "data": {
      "text/html": [
       "<div>\n",
       "<style scoped>\n",
       "    .dataframe tbody tr th:only-of-type {\n",
       "        vertical-align: middle;\n",
       "    }\n",
       "\n",
       "    .dataframe tbody tr th {\n",
       "        vertical-align: top;\n",
       "    }\n",
       "\n",
       "    .dataframe thead th {\n",
       "        text-align: right;\n",
       "    }\n",
       "</style>\n",
       "<table border=\"1\" class=\"dataframe\">\n",
       "  <thead>\n",
       "    <tr style=\"text-align: right;\">\n",
       "      <th></th>\n",
       "      <th>gender</th>\n",
       "      <th>id</th>\n",
       "    </tr>\n",
       "  </thead>\n",
       "  <tbody>\n",
       "    <tr>\n",
       "      <th>0</th>\n",
       "      <td>Female</td>\n",
       "      <td>111733</td>\n",
       "    </tr>\n",
       "    <tr>\n",
       "      <th>1</th>\n",
       "      <td>Male</td>\n",
       "      <td>132176</td>\n",
       "    </tr>\n",
       "  </tbody>\n",
       "</table>\n",
       "</div>"
      ],
      "text/plain": [
       "   gender      id\n",
       "0  Female  111733\n",
       "1    Male  132176"
      ]
     },
     "execution_count": 53,
     "metadata": {},
     "output_type": "execute_result"
    }
   ],
   "source": [
    "gender = df1[['gender', 'id']].groupby('gender').count().reset_index()"
   ]
  },
  {
   "cell_type": "code",
   "execution_count": 66,
   "id": "3bd49d6e",
   "metadata": {
    "ExecuteTime": {
     "end_time": "2023-04-21T14:03:42.534368Z",
     "start_time": "2023-04-21T14:03:42.375509Z"
    }
   },
   "outputs": [
    {
     "data": {
      "text/html": [
       "<div>\n",
       "<style scoped>\n",
       "    .dataframe tbody tr th:only-of-type {\n",
       "        vertical-align: middle;\n",
       "    }\n",
       "\n",
       "    .dataframe tbody tr th {\n",
       "        vertical-align: top;\n",
       "    }\n",
       "\n",
       "    .dataframe thead th {\n",
       "        text-align: right;\n",
       "    }\n",
       "</style>\n",
       "<table border=\"1\" class=\"dataframe\">\n",
       "  <thead>\n",
       "    <tr style=\"text-align: right;\">\n",
       "      <th></th>\n",
       "      <th>vehicle_age</th>\n",
       "      <th>id</th>\n",
       "    </tr>\n",
       "  </thead>\n",
       "  <tbody>\n",
       "    <tr>\n",
       "      <th>0</th>\n",
       "      <td>1-2 Year</td>\n",
       "      <td>128487</td>\n",
       "    </tr>\n",
       "    <tr>\n",
       "      <th>1</th>\n",
       "      <td>&lt; 1 Year</td>\n",
       "      <td>105175</td>\n",
       "    </tr>\n",
       "    <tr>\n",
       "      <th>2</th>\n",
       "      <td>&gt; 2 Years</td>\n",
       "      <td>10247</td>\n",
       "    </tr>\n",
       "  </tbody>\n",
       "</table>\n",
       "</div>"
      ],
      "text/plain": [
       "  vehicle_age      id\n",
       "0    1-2 Year  128487\n",
       "1    < 1 Year  105175\n",
       "2   > 2 Years   10247"
      ]
     },
     "execution_count": 66,
     "metadata": {},
     "output_type": "execute_result"
    }
   ],
   "source": [
    "df1[['vehicle_age', 'id']].groupby('vehicle_age').count().reset_index()"
   ]
  },
  {
   "cell_type": "code",
   "execution_count": null,
   "id": "ca196aa2",
   "metadata": {},
   "outputs": [],
   "source": []
  }
 ],
 "metadata": {
  "kernelspec": {
   "display_name": "Python 3 (ipykernel)",
   "language": "python",
   "name": "python3"
  },
  "language_info": {
   "codemirror_mode": {
    "name": "ipython",
    "version": 3
   },
   "file_extension": ".py",
   "mimetype": "text/x-python",
   "name": "python",
   "nbconvert_exporter": "python",
   "pygments_lexer": "ipython3",
   "version": "3.9.16"
  },
  "varInspector": {
   "cols": {
    "lenName": 16,
    "lenType": 16,
    "lenVar": 40
   },
   "kernels_config": {
    "python": {
     "delete_cmd_postfix": "",
     "delete_cmd_prefix": "del ",
     "library": "var_list.py",
     "varRefreshCmd": "print(var_dic_list())"
    },
    "r": {
     "delete_cmd_postfix": ") ",
     "delete_cmd_prefix": "rm(",
     "library": "var_list.r",
     "varRefreshCmd": "cat(var_dic_list()) "
    }
   },
   "types_to_exclude": [
    "module",
    "function",
    "builtin_function_or_method",
    "instance",
    "_Feature"
   ],
   "window_display": false
  }
 },
 "nbformat": 4,
 "nbformat_minor": 5
}
