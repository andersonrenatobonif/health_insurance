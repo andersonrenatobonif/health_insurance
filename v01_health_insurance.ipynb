{
 "cells": [
  {
   "cell_type": "markdown",
   "id": "810db8e8",
   "metadata": {},
   "source": [
    "# 0.0 Imports"
   ]
  },
  {
   "cell_type": "code",
   "execution_count": 18,
   "id": "ab401d07",
   "metadata": {
    "ExecuteTime": {
     "end_time": "2023-04-20T11:19:21.005594Z",
     "start_time": "2023-04-20T11:19:20.990158Z"
    }
   },
   "outputs": [],
   "source": [
    "import pandas as pd\n",
    "import matplotlib as plt\n",
    "import seaborn as sns\n",
    "import psycopg2 as pg\n",
    "import sqlalchemy as db\n",
    "\n",
    "from sqlalchemy import create_engine\n",
    "\n",
    "from sklearn.model_selection import train_test_split\n",
    "\n",
    "from IPython.display import display, HTML"
   ]
  },
  {
   "cell_type": "code",
   "execution_count": null,
   "id": "7968ed20",
   "metadata": {
    "ExecuteTime": {
     "end_time": "2023-04-20T11:18:35.248427Z",
     "start_time": "2023-04-20T11:18:21.670161Z"
    }
   },
   "outputs": [],
   "source": []
  },
  {
   "cell_type": "code",
   "execution_count": null,
   "id": "655c00a9",
   "metadata": {},
   "outputs": [],
   "source": []
  },
  {
   "cell_type": "markdown",
   "id": "d28f52ec",
   "metadata": {
    "ExecuteTime": {
     "end_time": "2023-04-09T19:27:52.785541Z",
     "start_time": "2023-04-09T19:27:52.727588Z"
    }
   },
   "source": [
    " ## 0.1 Helper Functions"
   ]
  },
  {
   "cell_type": "code",
   "execution_count": 6,
   "id": "80bab0f7",
   "metadata": {
    "ExecuteTime": {
     "end_time": "2023-04-20T10:48:35.819556Z",
     "start_time": "2023-04-20T10:48:35.806009Z"
    }
   },
   "outputs": [],
   "source": [
    "def jupyter_settings():\n",
    "    %matplotlib inline\n",
    "    \n",
    "    plt.style.use('bmh')\n",
    "    plt.rcParams['figure.figsize'] = [25, 12]\n",
    "    plt.rcParams['font.size'] = 24\n",
    "    \n",
    "    display(HTML(\"<style>.container { width:95% !important; }</style>\"))\n",
    "    pd.options.display.max_columns = None\n",
    "    pd.options.display.max_rows = None\n",
    "    pd.set_option('display.expand_frame_repr', False)\n",
    "    \n",
    "    sns.set"
   ]
  },
  {
   "cell_type": "code",
   "execution_count": 7,
   "id": "b4970324",
   "metadata": {
    "ExecuteTime": {
     "end_time": "2023-04-20T10:48:37.653567Z",
     "start_time": "2023-04-20T10:48:37.632138Z"
    }
   },
   "outputs": [
    {
     "data": {
      "text/html": [
       "<style>.container { width:95% !important; }</style>"
      ],
      "text/plain": [
       "<IPython.core.display.HTML object>"
      ]
     },
     "metadata": {},
     "output_type": "display_data"
    }
   ],
   "source": [
    "jupyter_settings()"
   ]
  },
  {
   "cell_type": "markdown",
   "id": "0455a60b",
   "metadata": {},
   "source": [
    "## 0.2 Loading Data"
   ]
  },
  {
   "cell_type": "code",
   "execution_count": 8,
   "id": "48cc5b1e",
   "metadata": {
    "ExecuteTime": {
     "end_time": "2023-04-20T10:48:40.517457Z",
     "start_time": "2023-04-20T10:48:40.510975Z"
    }
   },
   "outputs": [],
   "source": [
    "#credentials\n",
    "\n",
    "host = 'comunidade-ds-postgres.c50pcakiuwi3.us-east-1.rds.amazonaws.com'\n",
    "port = 5432\n",
    "database = 'comunidadedsdb'\n",
    "username = 'member'\n",
    "pwd = 'cdspa'"
   ]
  },
  {
   "cell_type": "code",
   "execution_count": 9,
   "id": "bad02326",
   "metadata": {
    "ExecuteTime": {
     "end_time": "2023-04-20T10:48:46.021415Z",
     "start_time": "2023-04-20T10:48:43.483151Z"
    }
   },
   "outputs": [],
   "source": [
    "#create string connection and postgre engine\n",
    "\n",
    "string_connect = 'postgresql://' + username + ':' + pwd + '@' + host + ':' + str(port) + '/' + database\n",
    "engine = db.create_engine(string_connect)\n",
    "conn1 = engine.connect()\n"
   ]
  },
  {
   "cell_type": "code",
   "execution_count": 10,
   "id": "a2e7d036",
   "metadata": {
    "ExecuteTime": {
     "end_time": "2023-04-20T10:48:52.957448Z",
     "start_time": "2023-04-20T10:48:52.951133Z"
    }
   },
   "outputs": [],
   "source": [
    "# make query\n",
    "\n",
    "query_tables = \"\"\"\n",
    "\n",
    "SELECT * \n",
    "FROM pa004.users u LEFT JOIN pa004.vehicle v ON (u.id = v.id)\n",
    "\t\t\t\t   LEFT JOIN pa004.insurance i ON (u.id = i.id)\n",
    "\n",
    "\n",
    "\n",
    "\"\"\""
   ]
  },
  {
   "cell_type": "code",
   "execution_count": 11,
   "id": "8f3c3a38",
   "metadata": {
    "ExecuteTime": {
     "end_time": "2023-04-20T10:49:17.674020Z",
     "start_time": "2023-04-20T10:49:03.665589Z"
    }
   },
   "outputs": [
    {
     "data": {
      "text/html": [
       "<div>\n",
       "<style scoped>\n",
       "    .dataframe tbody tr th:only-of-type {\n",
       "        vertical-align: middle;\n",
       "    }\n",
       "\n",
       "    .dataframe tbody tr th {\n",
       "        vertical-align: top;\n",
       "    }\n",
       "\n",
       "    .dataframe thead th {\n",
       "        text-align: right;\n",
       "    }\n",
       "</style>\n",
       "<table border=\"1\" class=\"dataframe\">\n",
       "  <thead>\n",
       "    <tr style=\"text-align: right;\">\n",
       "      <th></th>\n",
       "      <th>id</th>\n",
       "      <th>gender</th>\n",
       "      <th>age</th>\n",
       "      <th>region_code</th>\n",
       "      <th>policy_sales_channel</th>\n",
       "      <th>driving_license</th>\n",
       "      <th>vehicle_age</th>\n",
       "      <th>vehicle_damage</th>\n",
       "      <th>previously_insured</th>\n",
       "      <th>annual_premium</th>\n",
       "      <th>vintage</th>\n",
       "      <th>response</th>\n",
       "    </tr>\n",
       "  </thead>\n",
       "  <tbody>\n",
       "    <tr>\n",
       "      <th>0</th>\n",
       "      <td>7</td>\n",
       "      <td>Male</td>\n",
       "      <td>23</td>\n",
       "      <td>11.0</td>\n",
       "      <td>152.0</td>\n",
       "      <td>1</td>\n",
       "      <td>&lt; 1 Year</td>\n",
       "      <td>Yes</td>\n",
       "      <td>0</td>\n",
       "      <td>23367.0</td>\n",
       "      <td>249</td>\n",
       "      <td>0</td>\n",
       "    </tr>\n",
       "    <tr>\n",
       "      <th>1</th>\n",
       "      <td>13</td>\n",
       "      <td>Female</td>\n",
       "      <td>41</td>\n",
       "      <td>15.0</td>\n",
       "      <td>14.0</td>\n",
       "      <td>1</td>\n",
       "      <td>1-2 Year</td>\n",
       "      <td>No</td>\n",
       "      <td>1</td>\n",
       "      <td>31409.0</td>\n",
       "      <td>221</td>\n",
       "      <td>0</td>\n",
       "    </tr>\n",
       "    <tr>\n",
       "      <th>2</th>\n",
       "      <td>18</td>\n",
       "      <td>Female</td>\n",
       "      <td>25</td>\n",
       "      <td>35.0</td>\n",
       "      <td>152.0</td>\n",
       "      <td>1</td>\n",
       "      <td>&lt; 1 Year</td>\n",
       "      <td>No</td>\n",
       "      <td>1</td>\n",
       "      <td>46622.0</td>\n",
       "      <td>299</td>\n",
       "      <td>0</td>\n",
       "    </tr>\n",
       "    <tr>\n",
       "      <th>3</th>\n",
       "      <td>31</td>\n",
       "      <td>Female</td>\n",
       "      <td>26</td>\n",
       "      <td>8.0</td>\n",
       "      <td>160.0</td>\n",
       "      <td>1</td>\n",
       "      <td>&lt; 1 Year</td>\n",
       "      <td>No</td>\n",
       "      <td>0</td>\n",
       "      <td>2630.0</td>\n",
       "      <td>136</td>\n",
       "      <td>0</td>\n",
       "    </tr>\n",
       "    <tr>\n",
       "      <th>4</th>\n",
       "      <td>39</td>\n",
       "      <td>Male</td>\n",
       "      <td>45</td>\n",
       "      <td>8.0</td>\n",
       "      <td>124.0</td>\n",
       "      <td>1</td>\n",
       "      <td>1-2 Year</td>\n",
       "      <td>Yes</td>\n",
       "      <td>0</td>\n",
       "      <td>42297.0</td>\n",
       "      <td>264</td>\n",
       "      <td>0</td>\n",
       "    </tr>\n",
       "  </tbody>\n",
       "</table>\n",
       "</div>"
      ],
      "text/plain": [
       "   id  gender  age  region_code  policy_sales_channel  driving_license vehicle_age vehicle_damage  previously_insured  annual_premium  vintage  response\n",
       "0   7    Male   23         11.0                 152.0                1    < 1 Year            Yes                   0         23367.0      249         0\n",
       "1  13  Female   41         15.0                  14.0                1    1-2 Year             No                   1         31409.0      221         0\n",
       "2  18  Female   25         35.0                 152.0                1    < 1 Year             No                   1         46622.0      299         0\n",
       "3  31  Female   26          8.0                 160.0                1    < 1 Year             No                   0          2630.0      136         0\n",
       "4  39    Male   45          8.0                 124.0                1    1-2 Year            Yes                   0         42297.0      264         0"
      ]
     },
     "execution_count": 11,
     "metadata": {},
     "output_type": "execute_result"
    }
   ],
   "source": [
    "# Read dataFrame\n",
    "\n",
    "df = pd.read_sql(query_tables, conn1)\n",
    "df.head()"
   ]
  },
  {
   "cell_type": "code",
   "execution_count": null,
   "id": "60eec237",
   "metadata": {},
   "outputs": [],
   "source": [
    "# Split data frame in Traon, test and validation"
   ]
  },
  {
   "cell_type": "code",
   "execution_count": 23,
   "id": "fc3798b9",
   "metadata": {
    "ExecuteTime": {
     "end_time": "2023-04-20T11:24:25.741059Z",
     "start_time": "2023-04-20T11:24:25.683318Z"
    }
   },
   "outputs": [],
   "source": [
    "X = df.drop(['response'], axis=1)\n",
    "y = df['response']"
   ]
  },
  {
   "cell_type": "code",
   "execution_count": 24,
   "id": "09ed832c",
   "metadata": {
    "ExecuteTime": {
     "end_time": "2023-04-20T11:26:02.613705Z",
     "start_time": "2023-04-20T11:26:02.496146Z"
    }
   },
   "outputs": [],
   "source": [
    "#Split train-test\n",
    "\n",
    "X_train, X_test, y_train, y_test = train_test_split(X, y, test_size = 0.2, random_state=42)"
   ]
  },
  {
   "cell_type": "code",
   "execution_count": 25,
   "id": "2a9d7f06",
   "metadata": {
    "ExecuteTime": {
     "end_time": "2023-04-20T11:27:02.264209Z",
     "start_time": "2023-04-20T11:27:02.158422Z"
    }
   },
   "outputs": [],
   "source": [
    "# Split Train_validation\n",
    "\n",
    "X_train, X_val, y_train, y_val = train_test_split(X_train, y_train, test_size = 0.2, random_state=42)"
   ]
  },
  {
   "cell_type": "markdown",
   "id": "c0fce175",
   "metadata": {},
   "source": [
    "# 1.0 Descrição dos Dados"
   ]
  },
  {
   "cell_type": "code",
   "execution_count": 27,
   "id": "fd5401b3",
   "metadata": {
    "ExecuteTime": {
     "end_time": "2023-04-20T11:30:48.324105Z",
     "start_time": "2023-04-20T11:30:48.274669Z"
    }
   },
   "outputs": [],
   "source": [
    "df1 = X_train.copy()"
   ]
  },
  {
   "cell_type": "markdown",
   "id": "8703fcc1",
   "metadata": {},
   "source": [
    "## 1.1 Rename Columns"
   ]
  },
  {
   "cell_type": "code",
   "execution_count": 28,
   "id": "2a83d636",
   "metadata": {
    "ExecuteTime": {
     "end_time": "2023-04-20T11:30:57.324340Z",
     "start_time": "2023-04-20T11:30:57.305302Z"
    }
   },
   "outputs": [
    {
     "data": {
      "text/plain": [
       "Index(['id', 'gender', 'age', 'region_code', 'policy_sales_channel',\n",
       "       'driving_license', 'vehicle_age', 'vehicle_damage',\n",
       "       'previously_insured', 'annual_premium', 'vintage'],\n",
       "      dtype='object')"
      ]
     },
     "execution_count": 28,
     "metadata": {},
     "output_type": "execute_result"
    }
   ],
   "source": [
    "df1.columns"
   ]
  },
  {
   "cell_type": "code",
   "execution_count": null,
   "id": "d85f7067",
   "metadata": {},
   "outputs": [],
   "source": []
  },
  {
   "cell_type": "markdown",
   "id": "b6a00acc",
   "metadata": {},
   "source": [
    "## 1.2 Data Dimension"
   ]
  },
  {
   "cell_type": "code",
   "execution_count": 29,
   "id": "fa48e734",
   "metadata": {
    "ExecuteTime": {
     "end_time": "2023-04-20T11:31:09.234577Z",
     "start_time": "2023-04-20T11:31:09.214993Z"
    }
   },
   "outputs": [
    {
     "data": {
      "text/plain": [
       "(243909, 11)"
      ]
     },
     "execution_count": 29,
     "metadata": {},
     "output_type": "execute_result"
    }
   ],
   "source": [
    "df1.shape"
   ]
  },
  {
   "cell_type": "code",
   "execution_count": null,
   "id": "6f74a4d9",
   "metadata": {},
   "outputs": [],
   "source": []
  },
  {
   "cell_type": "markdown",
   "id": "b53511d2",
   "metadata": {},
   "source": [
    "## 1.3 Data Types"
   ]
  },
  {
   "cell_type": "code",
   "execution_count": 30,
   "id": "57de1c01",
   "metadata": {
    "ExecuteTime": {
     "end_time": "2023-04-20T11:31:13.766461Z",
     "start_time": "2023-04-20T11:31:13.668023Z"
    }
   },
   "outputs": [
    {
     "name": "stdout",
     "output_type": "stream",
     "text": [
      "<class 'pandas.core.frame.DataFrame'>\n",
      "Index: 243909 entries, 217927 to 169494\n",
      "Data columns (total 11 columns):\n",
      " #   Column                Non-Null Count   Dtype  \n",
      "---  ------                --------------   -----  \n",
      " 0   id                    243909 non-null  int64  \n",
      " 1   gender                243909 non-null  object \n",
      " 2   age                   243909 non-null  int64  \n",
      " 3   region_code           243909 non-null  float64\n",
      " 4   policy_sales_channel  243909 non-null  float64\n",
      " 5   driving_license       243909 non-null  int64  \n",
      " 6   vehicle_age           243909 non-null  object \n",
      " 7   vehicle_damage        243909 non-null  object \n",
      " 8   previously_insured    243909 non-null  int64  \n",
      " 9   annual_premium        243909 non-null  float64\n",
      " 10  vintage               243909 non-null  int64  \n",
      "dtypes: float64(3), int64(5), object(3)\n",
      "memory usage: 22.3+ MB\n"
     ]
    }
   ],
   "source": [
    "df1.info()"
   ]
  },
  {
   "cell_type": "code",
   "execution_count": null,
   "id": "d6bd76b6",
   "metadata": {},
   "outputs": [],
   "source": []
  },
  {
   "cell_type": "markdown",
   "id": "e8f57f2b",
   "metadata": {},
   "source": [
    "## 1.4 Check NA"
   ]
  },
  {
   "cell_type": "code",
   "execution_count": 31,
   "id": "7d9f98e1",
   "metadata": {
    "ExecuteTime": {
     "end_time": "2023-04-20T11:31:29.561098Z",
     "start_time": "2023-04-20T11:31:29.481481Z"
    }
   },
   "outputs": [
    {
     "data": {
      "text/plain": [
       "id                      0\n",
       "gender                  0\n",
       "age                     0\n",
       "region_code             0\n",
       "policy_sales_channel    0\n",
       "driving_license         0\n",
       "vehicle_age             0\n",
       "vehicle_damage          0\n",
       "previously_insured      0\n",
       "annual_premium          0\n",
       "vintage                 0\n",
       "dtype: int64"
      ]
     },
     "execution_count": 31,
     "metadata": {},
     "output_type": "execute_result"
    }
   ],
   "source": [
    "df1.isna().sum()"
   ]
  },
  {
   "cell_type": "code",
   "execution_count": null,
   "id": "60248c84",
   "metadata": {},
   "outputs": [],
   "source": []
  },
  {
   "cell_type": "code",
   "execution_count": null,
   "id": "b58684d3",
   "metadata": {},
   "outputs": [],
   "source": []
  },
  {
   "cell_type": "markdown",
   "id": "54ce2387",
   "metadata": {},
   "source": [
    "## 1.5 Change Types"
   ]
  },
  {
   "cell_type": "code",
   "execution_count": 32,
   "id": "e31f2256",
   "metadata": {
    "ExecuteTime": {
     "end_time": "2023-04-20T11:31:32.608552Z",
     "start_time": "2023-04-20T11:31:32.588633Z"
    }
   },
   "outputs": [
    {
     "data": {
      "text/plain": [
       "id                        int64\n",
       "gender                   object\n",
       "age                       int64\n",
       "region_code             float64\n",
       "policy_sales_channel    float64\n",
       "driving_license           int64\n",
       "vehicle_age              object\n",
       "vehicle_damage           object\n",
       "previously_insured        int64\n",
       "annual_premium          float64\n",
       "vintage                   int64\n",
       "dtype: object"
      ]
     },
     "execution_count": 32,
     "metadata": {},
     "output_type": "execute_result"
    }
   ],
   "source": [
    "df1.dtypes"
   ]
  },
  {
   "cell_type": "code",
   "execution_count": 33,
   "id": "20781f27",
   "metadata": {
    "ExecuteTime": {
     "end_time": "2023-04-20T11:31:37.904754Z",
     "start_time": "2023-04-20T11:31:37.884743Z"
    }
   },
   "outputs": [],
   "source": [
    "df1['region_code'] = df1['region_code'].astype(int)\n",
    "df1['policy_sales_channel'] = df1['policy_sales_channel'].astype(int)"
   ]
  },
  {
   "cell_type": "markdown",
   "id": "b3c066f4",
   "metadata": {},
   "source": [
    "## 1.6 Descriptive Statistical"
   ]
  },
  {
   "cell_type": "code",
   "execution_count": 34,
   "id": "bc1c47ac",
   "metadata": {
    "ExecuteTime": {
     "end_time": "2023-04-20T11:31:43.887165Z",
     "start_time": "2023-04-20T11:31:43.839366Z"
    }
   },
   "outputs": [],
   "source": [
    "num_attributes = df1.select_dtypes( include = ['int32, int64', 'float'] )\n",
    "cat_attributes = df1.select_dtypes( exclude = ['int32', 'int64', 'float'] )"
   ]
  },
  {
   "cell_type": "markdown",
   "id": "e036113b",
   "metadata": {},
   "source": [
    "### 1.6.1 Numerical Attributes"
   ]
  },
  {
   "cell_type": "code",
   "execution_count": null,
   "id": "83f221eb",
   "metadata": {},
   "outputs": [],
   "source": [
    "# Central tendency metrics\n",
    "\n"
   ]
  },
  {
   "cell_type": "code",
   "execution_count": null,
   "id": "2d01de41",
   "metadata": {},
   "outputs": [],
   "source": []
  },
  {
   "cell_type": "code",
   "execution_count": null,
   "id": "a7aecb47",
   "metadata": {},
   "outputs": [],
   "source": []
  },
  {
   "cell_type": "code",
   "execution_count": null,
   "id": "5c40accd",
   "metadata": {},
   "outputs": [],
   "source": []
  },
  {
   "cell_type": "code",
   "execution_count": null,
   "id": "b0bfa3d2",
   "metadata": {},
   "outputs": [],
   "source": []
  },
  {
   "cell_type": "code",
   "execution_count": null,
   "id": "04784671",
   "metadata": {},
   "outputs": [],
   "source": []
  }
 ],
 "metadata": {
  "kernelspec": {
   "display_name": "Python 3 (ipykernel)",
   "language": "python",
   "name": "python3"
  },
  "language_info": {
   "codemirror_mode": {
    "name": "ipython",
    "version": 3
   },
   "file_extension": ".py",
   "mimetype": "text/x-python",
   "name": "python",
   "nbconvert_exporter": "python",
   "pygments_lexer": "ipython3",
   "version": "3.9.16"
  },
  "varInspector": {
   "cols": {
    "lenName": 16,
    "lenType": 16,
    "lenVar": 40
   },
   "kernels_config": {
    "python": {
     "delete_cmd_postfix": "",
     "delete_cmd_prefix": "del ",
     "library": "var_list.py",
     "varRefreshCmd": "print(var_dic_list())"
    },
    "r": {
     "delete_cmd_postfix": ") ",
     "delete_cmd_prefix": "rm(",
     "library": "var_list.r",
     "varRefreshCmd": "cat(var_dic_list()) "
    }
   },
   "types_to_exclude": [
    "module",
    "function",
    "builtin_function_or_method",
    "instance",
    "_Feature"
   ],
   "window_display": false
  }
 },
 "nbformat": 4,
 "nbformat_minor": 5
}
