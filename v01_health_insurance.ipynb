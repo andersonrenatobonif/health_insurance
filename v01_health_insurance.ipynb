{
 "cells": [
  {
   "cell_type": "markdown",
   "id": "6c1cc9eb",
   "metadata": {},
   "source": [
    "# About Dataset\n",
    "\n",
    "## Context\n",
    "\n",
    "Our client is an Insurance company that has provided Health Insurance to its customers now they need your help in building a model to predict whether the policyholders (customers) from past year will also be interested in Vehicle Insurance provided by the company.\n",
    "\n",
    "An insurance policy is an arrangement by which a company undertakes to provide a guarantee of compensation for specified loss, damage, illness, or death in return for the payment of a specified premium. A premium is a sum of money that the customer needs to pay regularly to an insurance company for this guarantee.\n",
    "\n",
    "For example, you may pay a premium of Rs. 5000 each year for a health insurance cover of Rs. 200,000/- so that if, God forbid, you fall ill and need to be hospitalised in that year, the insurance provider company will bear the cost of hospitalisation etc. for upto Rs. 200,000. Now if you are wondering how can company bear such high hospitalisation cost when it charges a premium of only Rs. 5000/-, that is where the concept of probabilities comes in picture. For example, like you, there may be 100 customers who would be paying a premium of Rs. 5000 every year, but only a few of them (say 2-3) would get hospitalised that year and not everyone. This way everyone shares the risk of everyone else.\n",
    "\n",
    "Just like medical insurance, there is vehicle insurance where every year customer needs to pay a premium of certain amount to insurance provider company so that in case of unfortunate accident by the vehicle, the insurance provider company will provide a compensation (called ‘sum assured’) to the customer.\n",
    "\n",
    "Building a model to predict whether a customer would be interested in Vehicle Insurance is extremely helpful for the company because it can then accordingly plan its communication strategy to reach out to those customers and optimise its business model and revenue.\n",
    "\n",
    "Now, in order to predict, whether the customer would be interested in Vehicle insurance, you have information about demographics (gender, age, region code type), Vehicles (Vehicle Age, Damage), Policy (Premium, sourcing channel) etc."
   ]
  },
  {
   "cell_type": "markdown",
   "id": "8bd4fd2b",
   "metadata": {},
   "source": [
    "## Data Description\n",
    "\n",
    "### Train Data\n",
    "\n",
    "\n",
    "- id: Unique ID for the customer\n",
    "- Gender: Gender of the customer\n",
    "- Age:\tAge of the customer\n",
    "- Driving_License: 0  Customer does not have DL, 1  Customer already has DL\n",
    "- Region_Code: Unique code for the region of the customer\n",
    "- Previously_Insured: 1 Customer already has Vehicle Insurance, 0 Customer doesn't have Vehicle Insurance\n",
    "- Vehicle_Age: Age of the Vehicle\n",
    "- Vehicle_Damage: 1 Customer got his/her vehicle damaged in the past. 0 Customer didn't get his/her vehicle damaged in the past.\n",
    "- Annual_Premium: The amount customer needs to pay as premium in the year\n",
    "- Policy_Sales_Channel: Anonymized Code for the channel of outreaching to the customer ie. Different Agents, Over Mail, Over Phone, In Person, etc.\n",
    "- Vintage: Number of Days, Customer has been associated with the company\n",
    "- Response: 1 Customer is interested, 0 Customer is not interested"
   ]
  },
  {
   "cell_type": "code",
   "execution_count": null,
   "id": "6273ac00",
   "metadata": {},
   "outputs": [],
   "source": []
  },
  {
   "cell_type": "markdown",
   "id": "810db8e8",
   "metadata": {},
   "source": [
    "# 0.0 Imports"
   ]
  },
  {
   "cell_type": "code",
   "execution_count": 88,
   "id": "ab401d07",
   "metadata": {
    "ExecuteTime": {
     "end_time": "2023-04-21T19:52:26.877291Z",
     "start_time": "2023-04-21T19:52:26.764613Z"
    }
   },
   "outputs": [],
   "source": [
    "import pandas as pd\n",
    "import matplotlib as plt\n",
    "import seaborn as sns\n",
    "import psycopg2 as pg\n",
    "import sqlalchemy as db\n",
    "import matplotlib.pyplot as plt\n",
    "import seaborn as sns\n",
    "\n",
    "from sqlalchemy import create_engine\n",
    "\n",
    "from sklearn.model_selection import train_test_split\n",
    "from fast_ml.model_development import train_valid_test_split\n",
    "from fast_ml import eda\n",
    "\n",
    "\n",
    "from IPython.display import display, HTML"
   ]
  },
  {
   "cell_type": "code",
   "execution_count": null,
   "id": "655c00a9",
   "metadata": {
    "ExecuteTime": {
     "end_time": "2023-04-21T19:42:28.410324Z",
     "start_time": "2023-04-21T19:42:25.123024Z"
    }
   },
   "outputs": [],
   "source": []
  },
  {
   "cell_type": "markdown",
   "id": "d28f52ec",
   "metadata": {
    "ExecuteTime": {
     "end_time": "2023-04-09T19:27:52.785541Z",
     "start_time": "2023-04-09T19:27:52.727588Z"
    }
   },
   "source": [
    " ## 0.1 Helper Functions"
   ]
  },
  {
   "cell_type": "code",
   "execution_count": 109,
   "id": "80bab0f7",
   "metadata": {
    "ExecuteTime": {
     "end_time": "2023-04-21T19:56:36.836592Z",
     "start_time": "2023-04-21T19:56:36.809763Z"
    }
   },
   "outputs": [],
   "source": [
    "def jupyter_settings():\n",
    "    %matplotlib inline\n",
    "    \n",
    "    plt.style.use('bmh')\n",
    "    plt.rcParams['figure.figsize'] = [25, 12]\n",
    "    plt.rcParams['font.size'] = 24\n",
    "    \n",
    "    display(HTML(\"<style>.container { width:95% !important; }</style>\"))\n",
    "    pd.options.display.max_columns = None\n",
    "    pd.options.display.max_rows = None\n",
    "    pd.set_option('display.expand_frame_repr', False)\n",
    "    \n",
    "    sns.set"
   ]
  },
  {
   "cell_type": "code",
   "execution_count": 110,
   "id": "b4970324",
   "metadata": {
    "ExecuteTime": {
     "end_time": "2023-04-21T19:56:38.974178Z",
     "start_time": "2023-04-21T19:56:38.881244Z"
    }
   },
   "outputs": [
    {
     "data": {
      "text/html": [
       "<style>.container { width:95% !important; }</style>"
      ],
      "text/plain": [
       "<IPython.core.display.HTML object>"
      ]
     },
     "metadata": {},
     "output_type": "display_data"
    }
   ],
   "source": [
    "jupyter_settings()"
   ]
  },
  {
   "cell_type": "markdown",
   "id": "0455a60b",
   "metadata": {},
   "source": [
    "## 0.2 Loading Data"
   ]
  },
  {
   "cell_type": "code",
   "execution_count": 4,
   "id": "48cc5b1e",
   "metadata": {
    "ExecuteTime": {
     "end_time": "2023-04-21T12:58:36.242604Z",
     "start_time": "2023-04-21T12:58:36.237622Z"
    }
   },
   "outputs": [],
   "source": [
    "#credentials\n",
    "\n",
    "host = 'comunidade-ds-postgres.c50pcakiuwi3.us-east-1.rds.amazonaws.com'\n",
    "port = 5432\n",
    "database = 'comunidadedsdb'\n",
    "username = 'member'\n",
    "pwd = 'cdspa'"
   ]
  },
  {
   "cell_type": "code",
   "execution_count": 5,
   "id": "bad02326",
   "metadata": {
    "ExecuteTime": {
     "end_time": "2023-04-21T12:58:44.066477Z",
     "start_time": "2023-04-21T12:58:41.402547Z"
    }
   },
   "outputs": [],
   "source": [
    "#create string connection and postgre engine\n",
    "\n",
    "string_connect = 'postgresql://' + username + ':' + pwd + '@' + host + ':' + str(port) + '/' + database\n",
    "engine = db.create_engine(string_connect)\n",
    "conn1 = engine.connect()\n"
   ]
  },
  {
   "cell_type": "code",
   "execution_count": 6,
   "id": "a2e7d036",
   "metadata": {
    "ExecuteTime": {
     "end_time": "2023-04-21T12:58:45.655541Z",
     "start_time": "2023-04-21T12:58:45.647757Z"
    }
   },
   "outputs": [],
   "source": [
    "# make query\n",
    "\n",
    "query_tables = \"\"\"\n",
    "\n",
    "SELECT * \n",
    "FROM pa004.users u LEFT JOIN pa004.vehicle v ON (u.id = v.id)\n",
    "\t\t\t\t   LEFT JOIN pa004.insurance i ON (u.id = i.id)\n",
    "\n",
    "\n",
    "\n",
    "\"\"\""
   ]
  },
  {
   "cell_type": "code",
   "execution_count": 125,
   "id": "8f3c3a38",
   "metadata": {
    "ExecuteTime": {
     "end_time": "2023-04-21T20:05:35.682756Z",
     "start_time": "2023-04-21T20:05:23.727373Z"
    }
   },
   "outputs": [
    {
     "data": {
      "text/html": [
       "<div>\n",
       "<style scoped>\n",
       "    .dataframe tbody tr th:only-of-type {\n",
       "        vertical-align: middle;\n",
       "    }\n",
       "\n",
       "    .dataframe tbody tr th {\n",
       "        vertical-align: top;\n",
       "    }\n",
       "\n",
       "    .dataframe thead th {\n",
       "        text-align: right;\n",
       "    }\n",
       "</style>\n",
       "<table border=\"1\" class=\"dataframe\">\n",
       "  <thead>\n",
       "    <tr style=\"text-align: right;\">\n",
       "      <th></th>\n",
       "      <th>id</th>\n",
       "      <th>gender</th>\n",
       "      <th>age</th>\n",
       "      <th>region_code</th>\n",
       "      <th>policy_sales_channel</th>\n",
       "      <th>driving_license</th>\n",
       "      <th>vehicle_age</th>\n",
       "      <th>vehicle_damage</th>\n",
       "      <th>previously_insured</th>\n",
       "      <th>annual_premium</th>\n",
       "      <th>vintage</th>\n",
       "      <th>response</th>\n",
       "    </tr>\n",
       "  </thead>\n",
       "  <tbody>\n",
       "    <tr>\n",
       "      <th>0</th>\n",
       "      <td>7</td>\n",
       "      <td>Male</td>\n",
       "      <td>23</td>\n",
       "      <td>11.0</td>\n",
       "      <td>152.0</td>\n",
       "      <td>1</td>\n",
       "      <td>&lt; 1 Year</td>\n",
       "      <td>Yes</td>\n",
       "      <td>0</td>\n",
       "      <td>23367.0</td>\n",
       "      <td>249</td>\n",
       "      <td>0</td>\n",
       "    </tr>\n",
       "    <tr>\n",
       "      <th>1</th>\n",
       "      <td>13</td>\n",
       "      <td>Female</td>\n",
       "      <td>41</td>\n",
       "      <td>15.0</td>\n",
       "      <td>14.0</td>\n",
       "      <td>1</td>\n",
       "      <td>1-2 Year</td>\n",
       "      <td>No</td>\n",
       "      <td>1</td>\n",
       "      <td>31409.0</td>\n",
       "      <td>221</td>\n",
       "      <td>0</td>\n",
       "    </tr>\n",
       "    <tr>\n",
       "      <th>2</th>\n",
       "      <td>18</td>\n",
       "      <td>Female</td>\n",
       "      <td>25</td>\n",
       "      <td>35.0</td>\n",
       "      <td>152.0</td>\n",
       "      <td>1</td>\n",
       "      <td>&lt; 1 Year</td>\n",
       "      <td>No</td>\n",
       "      <td>1</td>\n",
       "      <td>46622.0</td>\n",
       "      <td>299</td>\n",
       "      <td>0</td>\n",
       "    </tr>\n",
       "    <tr>\n",
       "      <th>3</th>\n",
       "      <td>31</td>\n",
       "      <td>Female</td>\n",
       "      <td>26</td>\n",
       "      <td>8.0</td>\n",
       "      <td>160.0</td>\n",
       "      <td>1</td>\n",
       "      <td>&lt; 1 Year</td>\n",
       "      <td>No</td>\n",
       "      <td>0</td>\n",
       "      <td>2630.0</td>\n",
       "      <td>136</td>\n",
       "      <td>0</td>\n",
       "    </tr>\n",
       "    <tr>\n",
       "      <th>4</th>\n",
       "      <td>39</td>\n",
       "      <td>Male</td>\n",
       "      <td>45</td>\n",
       "      <td>8.0</td>\n",
       "      <td>124.0</td>\n",
       "      <td>1</td>\n",
       "      <td>1-2 Year</td>\n",
       "      <td>Yes</td>\n",
       "      <td>0</td>\n",
       "      <td>42297.0</td>\n",
       "      <td>264</td>\n",
       "      <td>0</td>\n",
       "    </tr>\n",
       "  </tbody>\n",
       "</table>\n",
       "</div>"
      ],
      "text/plain": [
       "   id  gender  age  region_code  policy_sales_channel  driving_license vehicle_age vehicle_damage  previously_insured  annual_premium  vintage  response\n",
       "0   7    Male   23         11.0                 152.0                1    < 1 Year            Yes                   0         23367.0      249         0\n",
       "1  13  Female   41         15.0                  14.0                1    1-2 Year             No                   1         31409.0      221         0\n",
       "2  18  Female   25         35.0                 152.0                1    < 1 Year             No                   1         46622.0      299         0\n",
       "3  31  Female   26          8.0                 160.0                1    < 1 Year             No                   0          2630.0      136         0\n",
       "4  39    Male   45          8.0                 124.0                1    1-2 Year            Yes                   0         42297.0      264         0"
      ]
     },
     "execution_count": 125,
     "metadata": {},
     "output_type": "execute_result"
    }
   ],
   "source": [
    "# Read dataFrame\n",
    "\n",
    "df = pd.read_sql(query_tables, conn1)\n",
    "df.head()"
   ]
  },
  {
   "cell_type": "markdown",
   "id": "345ea265",
   "metadata": {
    "ExecuteTime": {
     "end_time": "2023-04-21T13:13:49.841911Z",
     "start_time": "2023-04-21T13:13:49.800681Z"
    }
   },
   "source": [
    "## 0.3 Split data frame in Train, Validation and Test"
   ]
  },
  {
   "cell_type": "code",
   "execution_count": 113,
   "id": "fc3798b9",
   "metadata": {
    "ExecuteTime": {
     "end_time": "2023-04-21T19:59:09.760841Z",
     "start_time": "2023-04-21T19:59:09.527297Z"
    }
   },
   "outputs": [],
   "source": [
    "#X = df.drop(['response'], axis=1)\n",
    "#y = df['response']"
   ]
  },
  {
   "cell_type": "code",
   "execution_count": 114,
   "id": "09ed832c",
   "metadata": {
    "ExecuteTime": {
     "end_time": "2023-04-21T19:59:10.279775Z",
     "start_time": "2023-04-21T19:59:10.067019Z"
    }
   },
   "outputs": [],
   "source": [
    "#Split train-test\n",
    "\n",
    "#X_train, X_test, y_train, y_test = train_test_split(X, y, test_size = 0.2, random_state=42)"
   ]
  },
  {
   "cell_type": "code",
   "execution_count": 115,
   "id": "2a9d7f06",
   "metadata": {
    "ExecuteTime": {
     "end_time": "2023-04-21T19:59:10.624453Z",
     "start_time": "2023-04-21T19:59:10.455608Z"
    }
   },
   "outputs": [],
   "source": [
    "# Split Train_validation\n",
    "\n",
    "#X_train, X_val, y_train, y_val = train_test_split(X_train, y_train, test_size = 0.2, random_state=42)"
   ]
  },
  {
   "cell_type": "markdown",
   "id": "c0fce175",
   "metadata": {},
   "source": [
    "# 1.0 Descrição dos Dados"
   ]
  },
  {
   "cell_type": "code",
   "execution_count": 127,
   "id": "fd5401b3",
   "metadata": {
    "ExecuteTime": {
     "end_time": "2023-04-21T20:06:05.363649Z",
     "start_time": "2023-04-21T20:06:05.269872Z"
    }
   },
   "outputs": [],
   "source": [
    "#df1 = X_train.copy()\n",
    "df1 = df.copy()"
   ]
  },
  {
   "cell_type": "markdown",
   "id": "8703fcc1",
   "metadata": {},
   "source": [
    "## 1.1 Rename Columns"
   ]
  },
  {
   "cell_type": "code",
   "execution_count": 128,
   "id": "2a83d636",
   "metadata": {
    "ExecuteTime": {
     "end_time": "2023-04-21T20:06:08.223251Z",
     "start_time": "2023-04-21T20:06:08.211155Z"
    }
   },
   "outputs": [
    {
     "data": {
      "text/plain": [
       "Index(['id', 'gender', 'age', 'region_code', 'policy_sales_channel',\n",
       "       'driving_license', 'vehicle_age', 'vehicle_damage',\n",
       "       'previously_insured', 'annual_premium', 'vintage', 'response'],\n",
       "      dtype='object')"
      ]
     },
     "execution_count": 128,
     "metadata": {},
     "output_type": "execute_result"
    }
   ],
   "source": [
    "df1.columns"
   ]
  },
  {
   "cell_type": "code",
   "execution_count": null,
   "id": "d85f7067",
   "metadata": {},
   "outputs": [],
   "source": []
  },
  {
   "cell_type": "markdown",
   "id": "b6a00acc",
   "metadata": {},
   "source": [
    "## 1.2 Data Dimension"
   ]
  },
  {
   "cell_type": "code",
   "execution_count": 129,
   "id": "fa48e734",
   "metadata": {
    "ExecuteTime": {
     "end_time": "2023-04-21T20:06:12.510178Z",
     "start_time": "2023-04-21T20:06:12.492409Z"
    }
   },
   "outputs": [
    {
     "data": {
      "text/plain": [
       "(381109, 12)"
      ]
     },
     "execution_count": 129,
     "metadata": {},
     "output_type": "execute_result"
    }
   ],
   "source": [
    "df1.shape"
   ]
  },
  {
   "cell_type": "code",
   "execution_count": null,
   "id": "6f74a4d9",
   "metadata": {},
   "outputs": [],
   "source": []
  },
  {
   "cell_type": "markdown",
   "id": "b53511d2",
   "metadata": {},
   "source": [
    "## 1.3 Data Types"
   ]
  },
  {
   "cell_type": "code",
   "execution_count": 130,
   "id": "57de1c01",
   "metadata": {
    "ExecuteTime": {
     "end_time": "2023-04-21T20:06:15.818590Z",
     "start_time": "2023-04-21T20:06:15.671753Z"
    }
   },
   "outputs": [
    {
     "name": "stdout",
     "output_type": "stream",
     "text": [
      "<class 'pandas.core.frame.DataFrame'>\n",
      "RangeIndex: 381109 entries, 0 to 381108\n",
      "Data columns (total 12 columns):\n",
      " #   Column                Non-Null Count   Dtype  \n",
      "---  ------                --------------   -----  \n",
      " 0   id                    381109 non-null  int64  \n",
      " 1   gender                381109 non-null  object \n",
      " 2   age                   381109 non-null  int64  \n",
      " 3   region_code           381109 non-null  float64\n",
      " 4   policy_sales_channel  381109 non-null  float64\n",
      " 5   driving_license       381109 non-null  int64  \n",
      " 6   vehicle_age           381109 non-null  object \n",
      " 7   vehicle_damage        381109 non-null  object \n",
      " 8   previously_insured    381109 non-null  int64  \n",
      " 9   annual_premium        381109 non-null  float64\n",
      " 10  vintage               381109 non-null  int64  \n",
      " 11  response              381109 non-null  int64  \n",
      "dtypes: float64(3), int64(6), object(3)\n",
      "memory usage: 34.9+ MB\n"
     ]
    }
   ],
   "source": [
    "df1.info()"
   ]
  },
  {
   "cell_type": "code",
   "execution_count": null,
   "id": "d6bd76b6",
   "metadata": {},
   "outputs": [],
   "source": []
  },
  {
   "cell_type": "markdown",
   "id": "e8f57f2b",
   "metadata": {},
   "source": [
    "## 1.4 Check NA"
   ]
  },
  {
   "cell_type": "code",
   "execution_count": 131,
   "id": "7d9f98e1",
   "metadata": {
    "ExecuteTime": {
     "end_time": "2023-04-21T20:06:19.048920Z",
     "start_time": "2023-04-21T20:06:18.963193Z"
    }
   },
   "outputs": [
    {
     "data": {
      "text/plain": [
       "id                      0\n",
       "gender                  0\n",
       "age                     0\n",
       "region_code             0\n",
       "policy_sales_channel    0\n",
       "driving_license         0\n",
       "vehicle_age             0\n",
       "vehicle_damage          0\n",
       "previously_insured      0\n",
       "annual_premium          0\n",
       "vintage                 0\n",
       "response                0\n",
       "dtype: int64"
      ]
     },
     "execution_count": 131,
     "metadata": {},
     "output_type": "execute_result"
    }
   ],
   "source": [
    "df1.isna().sum()"
   ]
  },
  {
   "cell_type": "code",
   "execution_count": null,
   "id": "60248c84",
   "metadata": {},
   "outputs": [],
   "source": []
  },
  {
   "cell_type": "markdown",
   "id": "54ce2387",
   "metadata": {},
   "source": [
    "## 1.5 Change Types"
   ]
  },
  {
   "cell_type": "code",
   "execution_count": 132,
   "id": "e31f2256",
   "metadata": {
    "ExecuteTime": {
     "end_time": "2023-04-21T20:06:21.344098Z",
     "start_time": "2023-04-21T20:06:21.327156Z"
    }
   },
   "outputs": [
    {
     "data": {
      "text/plain": [
       "id                        int64\n",
       "gender                   object\n",
       "age                       int64\n",
       "region_code             float64\n",
       "policy_sales_channel    float64\n",
       "driving_license           int64\n",
       "vehicle_age              object\n",
       "vehicle_damage           object\n",
       "previously_insured        int64\n",
       "annual_premium          float64\n",
       "vintage                   int64\n",
       "response                  int64\n",
       "dtype: object"
      ]
     },
     "execution_count": 132,
     "metadata": {},
     "output_type": "execute_result"
    }
   ],
   "source": [
    "df1.dtypes"
   ]
  },
  {
   "cell_type": "code",
   "execution_count": 133,
   "id": "20781f27",
   "metadata": {
    "ExecuteTime": {
     "end_time": "2023-04-21T20:07:08.621788Z",
     "start_time": "2023-04-21T20:07:08.474818Z"
    }
   },
   "outputs": [],
   "source": [
    "df1['region_code'] = df1['region_code'].astype(int)\n",
    "df1['policy_sales_channel'] = df1['policy_sales_channel'].astype(int)"
   ]
  },
  {
   "cell_type": "code",
   "execution_count": null,
   "id": "baf03d12",
   "metadata": {
    "ExecuteTime": {
     "end_time": "2023-04-21T20:07:19.967547Z",
     "start_time": "2023-04-21T20:07:19.940211Z"
    }
   },
   "outputs": [],
   "source": []
  },
  {
   "cell_type": "markdown",
   "id": "b3c066f4",
   "metadata": {},
   "source": [
    "## 1.6 Descriptive Statistical"
   ]
  },
  {
   "cell_type": "code",
   "execution_count": 135,
   "id": "bc1c47ac",
   "metadata": {
    "ExecuteTime": {
     "end_time": "2023-04-21T20:07:30.998393Z",
     "start_time": "2023-04-21T20:07:30.571736Z"
    }
   },
   "outputs": [],
   "source": [
    "num_attributes = df1.select_dtypes( include = ['int32', 'int64', 'float64'] )\n",
    "cat_attributes = df1.select_dtypes( exclude = ['int32', 'int64', 'float'] )"
   ]
  },
  {
   "cell_type": "markdown",
   "id": "e036113b",
   "metadata": {},
   "source": [
    "### 1.6.1 Numerical Attributes"
   ]
  },
  {
   "cell_type": "code",
   "execution_count": 136,
   "id": "83f221eb",
   "metadata": {
    "ExecuteTime": {
     "end_time": "2023-04-21T20:07:33.097946Z",
     "start_time": "2023-04-21T20:07:32.172208Z"
    }
   },
   "outputs": [
    {
     "data": {
      "text/html": [
       "<div>\n",
       "<style scoped>\n",
       "    .dataframe tbody tr th:only-of-type {\n",
       "        vertical-align: middle;\n",
       "    }\n",
       "\n",
       "    .dataframe tbody tr th {\n",
       "        vertical-align: top;\n",
       "    }\n",
       "\n",
       "    .dataframe thead th {\n",
       "        text-align: right;\n",
       "    }\n",
       "</style>\n",
       "<table border=\"1\" class=\"dataframe\">\n",
       "  <thead>\n",
       "    <tr style=\"text-align: right;\">\n",
       "      <th></th>\n",
       "      <th>features</th>\n",
       "      <th>min</th>\n",
       "      <th>max</th>\n",
       "      <th>mean</th>\n",
       "      <th>median</th>\n",
       "      <th>std</th>\n",
       "      <th>range</th>\n",
       "      <th>skew</th>\n",
       "      <th>kurtosis</th>\n",
       "    </tr>\n",
       "  </thead>\n",
       "  <tbody>\n",
       "    <tr>\n",
       "      <th>0</th>\n",
       "      <td>id</td>\n",
       "      <td>1.0</td>\n",
       "      <td>381109.0</td>\n",
       "      <td>190555.000000</td>\n",
       "      <td>190555.0</td>\n",
       "      <td>110016.691870</td>\n",
       "      <td>381108.0</td>\n",
       "      <td>-8.071174e-18</td>\n",
       "      <td>-1.200000</td>\n",
       "    </tr>\n",
       "    <tr>\n",
       "      <th>1</th>\n",
       "      <td>age</td>\n",
       "      <td>20.0</td>\n",
       "      <td>85.0</td>\n",
       "      <td>38.822584</td>\n",
       "      <td>36.0</td>\n",
       "      <td>15.511591</td>\n",
       "      <td>65.0</td>\n",
       "      <td>6.725390e-01</td>\n",
       "      <td>-0.565655</td>\n",
       "    </tr>\n",
       "    <tr>\n",
       "      <th>2</th>\n",
       "      <td>region_code</td>\n",
       "      <td>0.0</td>\n",
       "      <td>52.0</td>\n",
       "      <td>26.388807</td>\n",
       "      <td>28.0</td>\n",
       "      <td>13.229871</td>\n",
       "      <td>52.0</td>\n",
       "      <td>-1.152664e-01</td>\n",
       "      <td>-0.867857</td>\n",
       "    </tr>\n",
       "    <tr>\n",
       "      <th>3</th>\n",
       "      <td>policy_sales_channel</td>\n",
       "      <td>1.0</td>\n",
       "      <td>163.0</td>\n",
       "      <td>112.034295</td>\n",
       "      <td>133.0</td>\n",
       "      <td>54.203924</td>\n",
       "      <td>162.0</td>\n",
       "      <td>-9.000081e-01</td>\n",
       "      <td>-0.970810</td>\n",
       "    </tr>\n",
       "    <tr>\n",
       "      <th>4</th>\n",
       "      <td>driving_license</td>\n",
       "      <td>0.0</td>\n",
       "      <td>1.0</td>\n",
       "      <td>0.997869</td>\n",
       "      <td>1.0</td>\n",
       "      <td>0.046109</td>\n",
       "      <td>1.0</td>\n",
       "      <td>-2.159518e+01</td>\n",
       "      <td>464.354302</td>\n",
       "    </tr>\n",
       "    <tr>\n",
       "      <th>5</th>\n",
       "      <td>vehicle_damage</td>\n",
       "      <td>0.0</td>\n",
       "      <td>1.0</td>\n",
       "      <td>0.495123</td>\n",
       "      <td>0.0</td>\n",
       "      <td>0.499976</td>\n",
       "      <td>1.0</td>\n",
       "      <td>1.950724e-02</td>\n",
       "      <td>-1.999630</td>\n",
       "    </tr>\n",
       "    <tr>\n",
       "      <th>6</th>\n",
       "      <td>previously_insured</td>\n",
       "      <td>0.0</td>\n",
       "      <td>1.0</td>\n",
       "      <td>0.458210</td>\n",
       "      <td>0.0</td>\n",
       "      <td>0.498251</td>\n",
       "      <td>1.0</td>\n",
       "      <td>1.677471e-01</td>\n",
       "      <td>-1.971871</td>\n",
       "    </tr>\n",
       "    <tr>\n",
       "      <th>7</th>\n",
       "      <td>annual_premium</td>\n",
       "      <td>2630.0</td>\n",
       "      <td>540165.0</td>\n",
       "      <td>30564.389581</td>\n",
       "      <td>31669.0</td>\n",
       "      <td>17213.132474</td>\n",
       "      <td>537535.0</td>\n",
       "      <td>1.766087e+00</td>\n",
       "      <td>34.004569</td>\n",
       "    </tr>\n",
       "    <tr>\n",
       "      <th>8</th>\n",
       "      <td>vintage</td>\n",
       "      <td>10.0</td>\n",
       "      <td>299.0</td>\n",
       "      <td>154.347397</td>\n",
       "      <td>154.0</td>\n",
       "      <td>83.671194</td>\n",
       "      <td>289.0</td>\n",
       "      <td>3.029517e-03</td>\n",
       "      <td>-1.200688</td>\n",
       "    </tr>\n",
       "    <tr>\n",
       "      <th>9</th>\n",
       "      <td>response</td>\n",
       "      <td>0.0</td>\n",
       "      <td>1.0</td>\n",
       "      <td>0.122563</td>\n",
       "      <td>0.0</td>\n",
       "      <td>0.327935</td>\n",
       "      <td>1.0</td>\n",
       "      <td>2.301906e+00</td>\n",
       "      <td>3.298788</td>\n",
       "    </tr>\n",
       "  </tbody>\n",
       "</table>\n",
       "</div>"
      ],
      "text/plain": [
       "               features     min       max           mean    median            std     range          skew    kurtosis\n",
       "0                    id     1.0  381109.0  190555.000000  190555.0  110016.691870  381108.0 -8.071174e-18   -1.200000\n",
       "1                   age    20.0      85.0      38.822584      36.0      15.511591      65.0  6.725390e-01   -0.565655\n",
       "2           region_code     0.0      52.0      26.388807      28.0      13.229871      52.0 -1.152664e-01   -0.867857\n",
       "3  policy_sales_channel     1.0     163.0     112.034295     133.0      54.203924     162.0 -9.000081e-01   -0.970810\n",
       "4       driving_license     0.0       1.0       0.997869       1.0       0.046109       1.0 -2.159518e+01  464.354302\n",
       "5        vehicle_damage     0.0       1.0       0.495123       0.0       0.499976       1.0  1.950724e-02   -1.999630\n",
       "6    previously_insured     0.0       1.0       0.458210       0.0       0.498251       1.0  1.677471e-01   -1.971871\n",
       "7        annual_premium  2630.0  540165.0   30564.389581   31669.0   17213.132474  537535.0  1.766087e+00   34.004569\n",
       "8               vintage    10.0     299.0     154.347397     154.0      83.671194     289.0  3.029517e-03   -1.200688\n",
       "9              response     0.0       1.0       0.122563       0.0       0.327935       1.0  2.301906e+00    3.298788"
      ]
     },
     "execution_count": 136,
     "metadata": {},
     "output_type": "execute_result"
    }
   ],
   "source": [
    "# Central tendency metrics\n",
    "\n",
    "ct1 = pd.DataFrame(num_attributes.apply(np.mean)).T\n",
    "ct2 = pd.DataFrame(num_attributes.apply(np.median)).T\n",
    "\n",
    "\n",
    "# Dispersionl metrics - std, min, max, range, kurtosis, skew\n",
    "\n",
    "d1 = pd.DataFrame(num_attributes.apply(np.std)).T\n",
    "d2 = pd.DataFrame(num_attributes.apply(min)).T\n",
    "d3 = pd.DataFrame(num_attributes.apply(max)).T\n",
    "d4 = pd.DataFrame(num_attributes.apply(lambda x: x.max() - x.min())).T\n",
    "d5 = pd.DataFrame(num_attributes.apply(lambda x: x.skew())).T\n",
    "d6 = pd.DataFrame(num_attributes.apply(lambda x: x.kurtosis())).T\n",
    "\n",
    "m = pd.concat( [ d2, d3, ct1, ct2, d1, d4, d5, d6 ]).T.reset_index()\n",
    "\n",
    "m.columns = ( [ 'features', 'min', 'max', 'mean', 'median', 'std', 'range', 'skew', 'kurtosis'])\n",
    "\n",
    "m"
   ]
  },
  {
   "cell_type": "markdown",
   "id": "3b21db1a",
   "metadata": {},
   "source": [
    "### 1.7.1 Categorical Attributes"
   ]
  },
  {
   "cell_type": "code",
   "execution_count": 137,
   "id": "5c40accd",
   "metadata": {
    "ExecuteTime": {
     "end_time": "2023-04-21T20:07:34.808719Z",
     "start_time": "2023-04-21T20:07:34.716045Z"
    }
   },
   "outputs": [
    {
     "data": {
      "text/plain": [
       "gender         2\n",
       "vehicle_age    3\n",
       "dtype: int64"
      ]
     },
     "execution_count": 137,
     "metadata": {},
     "output_type": "execute_result"
    }
   ],
   "source": [
    "cat_attributes.apply(lambda x: x.unique().shape[0])"
   ]
  },
  {
   "cell_type": "code",
   "execution_count": 154,
   "id": "04784671",
   "metadata": {
    "ExecuteTime": {
     "end_time": "2023-04-21T20:18:26.826915Z",
     "start_time": "2023-04-21T20:18:23.209040Z"
    }
   },
   "outputs": [
    {
     "data": {
      "text/html": [
       "<div>\n",
       "<style scoped>\n",
       "    .dataframe tbody tr th:only-of-type {\n",
       "        vertical-align: middle;\n",
       "    }\n",
       "\n",
       "    .dataframe tbody tr th {\n",
       "        vertical-align: top;\n",
       "    }\n",
       "\n",
       "    .dataframe thead th {\n",
       "        text-align: right;\n",
       "    }\n",
       "</style>\n",
       "<table border=\"1\" class=\"dataframe\">\n",
       "  <thead>\n",
       "    <tr style=\"text-align: right;\">\n",
       "      <th></th>\n",
       "      <th>response</th>\n",
       "      <th>gender</th>\n",
       "      <th>count</th>\n",
       "    </tr>\n",
       "  </thead>\n",
       "  <tbody>\n",
       "    <tr>\n",
       "      <th>0</th>\n",
       "      <td>0</td>\n",
       "      <td>Male</td>\n",
       "      <td>177564</td>\n",
       "    </tr>\n",
       "    <tr>\n",
       "      <th>1</th>\n",
       "      <td>0</td>\n",
       "      <td>Female</td>\n",
       "      <td>156835</td>\n",
       "    </tr>\n",
       "    <tr>\n",
       "      <th>2</th>\n",
       "      <td>1</td>\n",
       "      <td>Male</td>\n",
       "      <td>28525</td>\n",
       "    </tr>\n",
       "    <tr>\n",
       "      <th>3</th>\n",
       "      <td>1</td>\n",
       "      <td>Female</td>\n",
       "      <td>18185</td>\n",
       "    </tr>\n",
       "  </tbody>\n",
       "</table>\n",
       "</div>"
      ],
      "text/plain": [
       "   response  gender   count\n",
       "0         0    Male  177564\n",
       "1         0  Female  156835\n",
       "2         1    Male   28525\n",
       "3         1  Female   18185"
      ]
     },
     "execution_count": 154,
     "metadata": {},
     "output_type": "execute_result"
    }
   ],
   "source": [
    "df1[['gender', 'response']].groupby('response').value_counts().reset_index()"
   ]
  },
  {
   "cell_type": "code",
   "execution_count": 155,
   "id": "c0f8f21f",
   "metadata": {
    "ExecuteTime": {
     "end_time": "2023-04-21T20:19:52.407939Z",
     "start_time": "2023-04-21T20:19:50.096074Z"
    }
   },
   "outputs": [
    {
     "data": {
      "text/html": [
       "<div>\n",
       "<style scoped>\n",
       "    .dataframe tbody tr th:only-of-type {\n",
       "        vertical-align: middle;\n",
       "    }\n",
       "\n",
       "    .dataframe tbody tr th {\n",
       "        vertical-align: top;\n",
       "    }\n",
       "\n",
       "    .dataframe thead th {\n",
       "        text-align: right;\n",
       "    }\n",
       "</style>\n",
       "<table border=\"1\" class=\"dataframe\">\n",
       "  <thead>\n",
       "    <tr style=\"text-align: right;\">\n",
       "      <th></th>\n",
       "      <th>response</th>\n",
       "      <th>vehicle_age</th>\n",
       "      <th>count</th>\n",
       "    </tr>\n",
       "  </thead>\n",
       "  <tbody>\n",
       "    <tr>\n",
       "      <th>0</th>\n",
       "      <td>0</td>\n",
       "      <td>1-2 Year</td>\n",
       "      <td>165510</td>\n",
       "    </tr>\n",
       "    <tr>\n",
       "      <th>1</th>\n",
       "      <td>0</td>\n",
       "      <td>&lt; 1 Year</td>\n",
       "      <td>157584</td>\n",
       "    </tr>\n",
       "    <tr>\n",
       "      <th>2</th>\n",
       "      <td>0</td>\n",
       "      <td>&gt; 2 Years</td>\n",
       "      <td>11305</td>\n",
       "    </tr>\n",
       "    <tr>\n",
       "      <th>3</th>\n",
       "      <td>1</td>\n",
       "      <td>1-2 Year</td>\n",
       "      <td>34806</td>\n",
       "    </tr>\n",
       "    <tr>\n",
       "      <th>4</th>\n",
       "      <td>1</td>\n",
       "      <td>&lt; 1 Year</td>\n",
       "      <td>7202</td>\n",
       "    </tr>\n",
       "    <tr>\n",
       "      <th>5</th>\n",
       "      <td>1</td>\n",
       "      <td>&gt; 2 Years</td>\n",
       "      <td>4702</td>\n",
       "    </tr>\n",
       "  </tbody>\n",
       "</table>\n",
       "</div>"
      ],
      "text/plain": [
       "   response vehicle_age   count\n",
       "0         0    1-2 Year  165510\n",
       "1         0    < 1 Year  157584\n",
       "2         0   > 2 Years   11305\n",
       "3         1    1-2 Year   34806\n",
       "4         1    < 1 Year    7202\n",
       "5         1   > 2 Years    4702"
      ]
     },
     "execution_count": 155,
     "metadata": {},
     "output_type": "execute_result"
    }
   ],
   "source": [
    "df1[['vehicle_age', 'response']].groupby('response').value_counts().reset_index()"
   ]
  },
  {
   "cell_type": "markdown",
   "id": "91b6d6cb",
   "metadata": {},
   "source": [
    "# 2.0 Featuring Engineering"
   ]
  },
  {
   "cell_type": "code",
   "execution_count": 191,
   "id": "aebea902",
   "metadata": {
    "ExecuteTime": {
     "end_time": "2023-04-21T21:20:15.269410Z",
     "start_time": "2023-04-21T21:20:15.194494Z"
    }
   },
   "outputs": [],
   "source": [
    "df2 = df1.copy()"
   ]
  },
  {
   "cell_type": "markdown",
   "id": "a0f33d87",
   "metadata": {},
   "source": [
    "## 2.1 Criação das Hipóteses"
   ]
  },
  {
   "cell_type": "markdown",
   "id": "3690542a",
   "metadata": {},
   "source": [
    "### 2.1.1 Hipóteses Cliente"
   ]
  },
  {
   "cell_type": "markdown",
   "id": "d4527fea",
   "metadata": {},
   "source": [
    "**1-** CLientes com mais idade deveriam ter mais propensão a comprar o seguro\n",
    "\n",
    "**2-** CLientes sem habilitação deveriam ter mais propensão a comprar o seguro\n",
    "\n",
    "**3-** CLientes que ganham maior remuneração deveriam ter mais propensão a comprar\n",
    "\n",
    "**4-** Pessoas que são clientes a mais tempo deveriam ter mais propensão a comprar\n",
    "\n",
    "**5-** Clientes do gênero femnino deveriam ter mais propensão a comprar\n",
    "\n",
    "**6-** Clientes com prêmio de seguro anual menor deveriam ter mais propensão a comprar\n",
    "\n",
    "**7-** Clientes que já tem seguro deveriam ter menos propensão a comprar\n",
    "\n"
   ]
  },
  {
   "cell_type": "code",
   "execution_count": null,
   "id": "93b1f2ee",
   "metadata": {},
   "outputs": [],
   "source": []
  },
  {
   "cell_type": "markdown",
   "id": "a1099e54",
   "metadata": {},
   "source": [
    "### 2.1.2 Hipóteses do Veículo"
   ]
  },
  {
   "cell_type": "markdown",
   "id": "f99be8cf",
   "metadata": {},
   "source": [
    "**1-** Clientes com veículos mais novos deveriam ter mais propensão a comprar\n",
    "\n",
    "**2-** Clientes com veículos que já sofreram acidentes deveriam ter mais propensão a comprar"
   ]
  },
  {
   "cell_type": "markdown",
   "id": "f0ca76e9",
   "metadata": {},
   "source": [
    "## 2.2 Lista Final das Hipóteses"
   ]
  },
  {
   "cell_type": "markdown",
   "id": "3a9ffd59",
   "metadata": {},
   "source": [
    "**1-** CLientes com mais idade deveriam ter mais propensão a comprar o seguro\n",
    "\n",
    "**2-** CLientes sem habilitação deveriam ter mais propensão a comprar o seguro\n",
    "\n",
    "**3-** CLientes que ganham maior remuneração deveriam ter mais propensão a comprar\n",
    "\n",
    "**4-** Pessoas que são clientes a mais tempo deveriam ter mais propensão a comprar\n",
    "\n",
    "**5-** Clientes do gênero femnino deveriam ter mais propensão a comprar\n",
    "\n",
    "**6-** Clientes com prêmio de seguro anual menor deveriam ter mais propensão a comprar\n",
    "\n",
    "**7-** Clientes que já tem seguro deveriam ter menos propensão a comprar\n",
    "\n",
    "**8-** Clientes com veículos mais novos deveriam ter mais propensão a comprar\n",
    "\n",
    "**9-** Clientes com veículos que já sofreram acidentes deveriam ter mais propensão a comprar"
   ]
  },
  {
   "cell_type": "markdown",
   "id": "70d34537",
   "metadata": {},
   "source": [
    "## 2.3 Feature Engineering"
   ]
  },
  {
   "cell_type": "code",
   "execution_count": 188,
   "id": "8b97adc3",
   "metadata": {
    "ExecuteTime": {
     "end_time": "2023-04-21T21:19:58.733017Z",
     "start_time": "2023-04-21T21:19:58.556053Z"
    }
   },
   "outputs": [],
   "source": [
    "# vehicle_damage\n",
    "\n",
    "df2['vehicle_damage'] = df2['vehicle_damage'].apply(lambda x: 1 if x == 'Yes' else 0)\n",
    "\n",
    "# vehicle_age\n",
    "\n",
    "df2['vehicle_age'] = df2['vehicle_age'].apply(lambda x:  '1 year' if x == '< 1 Year' else 'between 1 and 2 years' if x == '1-2 Year' else 'more 2 year')\n",
    "\n"
   ]
  },
  {
   "cell_type": "markdown",
   "id": "98ef9eb2",
   "metadata": {},
   "source": [
    "# 3.0 Exploratory Data Analysis"
   ]
  },
  {
   "cell_type": "code",
   "execution_count": 189,
   "id": "eca0a317",
   "metadata": {
    "ExecuteTime": {
     "end_time": "2023-04-21T21:20:02.861724Z",
     "start_time": "2023-04-21T21:20:02.753728Z"
    }
   },
   "outputs": [],
   "source": [
    "df3 = df2.copy()"
   ]
  },
  {
   "cell_type": "code",
   "execution_count": 190,
   "id": "d407b500",
   "metadata": {
    "ExecuteTime": {
     "end_time": "2023-04-21T21:20:03.017992Z",
     "start_time": "2023-04-21T21:20:03.003520Z"
    }
   },
   "outputs": [
    {
     "data": {
      "text/plain": [
       "1"
      ]
     },
     "execution_count": 190,
     "metadata": {},
     "output_type": "execute_result"
    }
   ],
   "source": [
    "df3['vehicle_damage'].nunique()"
   ]
  },
  {
   "cell_type": "code",
   "execution_count": null,
   "id": "a03f96e3",
   "metadata": {},
   "outputs": [],
   "source": []
  },
  {
   "cell_type": "code",
   "execution_count": null,
   "id": "69f8c26c",
   "metadata": {},
   "outputs": [],
   "source": []
  }
 ],
 "metadata": {
  "kernelspec": {
   "display_name": "Python 3 (ipykernel)",
   "language": "python",
   "name": "python3"
  },
  "language_info": {
   "codemirror_mode": {
    "name": "ipython",
    "version": 3
   },
   "file_extension": ".py",
   "mimetype": "text/x-python",
   "name": "python",
   "nbconvert_exporter": "python",
   "pygments_lexer": "ipython3",
   "version": "3.9.16"
  },
  "varInspector": {
   "cols": {
    "lenName": 16,
    "lenType": 16,
    "lenVar": 40
   },
   "kernels_config": {
    "python": {
     "delete_cmd_postfix": "",
     "delete_cmd_prefix": "del ",
     "library": "var_list.py",
     "varRefreshCmd": "print(var_dic_list())"
    },
    "r": {
     "delete_cmd_postfix": ") ",
     "delete_cmd_prefix": "rm(",
     "library": "var_list.r",
     "varRefreshCmd": "cat(var_dic_list()) "
    }
   },
   "types_to_exclude": [
    "module",
    "function",
    "builtin_function_or_method",
    "instance",
    "_Feature"
   ],
   "window_display": false
  }
 },
 "nbformat": 4,
 "nbformat_minor": 5
}
